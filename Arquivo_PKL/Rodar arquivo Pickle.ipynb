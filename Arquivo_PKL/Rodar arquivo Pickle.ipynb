{
 "cells": [
  {
   "cell_type": "code",
   "execution_count": 1,
   "id": "89c82476",
   "metadata": {
    "scrolled": true
   },
   "outputs": [],
   "source": [
    "import pandas as pd\n",
    "from joblib import dump, load"
   ]
  },
  {
   "cell_type": "code",
   "execution_count": 2,
   "id": "dcc32c65",
   "metadata": {},
   "outputs": [],
   "source": [
    "loaded_model = load('random_forest_modelo.pkl')"
   ]
  },
  {
   "cell_type": "markdown",
   "id": "650c02d0",
   "metadata": {},
   "source": [
    "**A variável `bairro_group` está classificada da seguinte forma:**\n",
    "\n",
    "**Bronx: 1**\n",
    "\n",
    "**Brooklyn: 2**\n",
    "\n",
    "**Manhattan: 3**\n",
    "\n",
    "**Queens: 4**\n",
    "\n",
    "**Staten Island: 5**"
   ]
  },
  {
   "cell_type": "markdown",
   "id": "0f5e3528",
   "metadata": {},
   "source": [
    "**A variável `room_type` está classificada da seguinte forma:**\n",
    "\n",
    "**Entire home/apt: 1**\n",
    "\n",
    "**Private room: 2**\n",
    "\n",
    "**Shared room: 3**"
   ]
  },
  {
   "cell_type": "markdown",
   "id": "467d568c",
   "metadata": {},
   "source": [
    "Basta digitar em `bairro_group` e `room_type` da forma que foi classificado acima para rodar um modelo novo."
   ]
  },
  {
   "cell_type": "code",
   "execution_count": 3,
   "id": "58822c2f",
   "metadata": {},
   "outputs": [],
   "source": [
    "novo_apartamento = {'id': 2595,\n",
    "    'nome': 'Skylit Midtown Castle',\n",
    "    'host_id': 2845,\n",
    "    'host_name': 'Jennifer',\n",
    "    'bairro_group': 'Manhattan',\n",
    "    'bairro': 'Midtown',\n",
    "    'latitude': 40.75362,\n",
    "    'longitude': -73.98377,\n",
    "    'room_type': 'Entire home/apt',\n",
    "    'minimo_noites': 1,\n",
    "    'numero_de_reviews': 45,\n",
    "    'ultima_review': '2019-05-21',\n",
    "    'reviews_por_mes': 0.38,\n",
    "    'calculado_host_listings_count': 2,\n",
    "    'disponibilidade_365': 355\n",
    "}\n",
    "novo_apartamento['bairro_group'] = {'Bronx': 1, 'Brooklyn': 2, 'Manhattan': 3, 'Queens': 4, 'Staten Island': 5}[novo_apartamento['bairro_group']]\n",
    "novo_apartamento['room_type'] = {'Entire home/apt': 1, 'Private room': 2, 'Shared room': 3}[novo_apartamento['room_type']]"
   ]
  },
  {
   "cell_type": "code",
   "execution_count": 4,
   "id": "8a773bd1",
   "metadata": {},
   "outputs": [],
   "source": [
    "novo_apart = pd.DataFrame([novo_apartamento])"
   ]
  },
  {
   "cell_type": "code",
   "execution_count": 5,
   "id": "8c1069bf",
   "metadata": {},
   "outputs": [],
   "source": [
    "X_all = novo_apart.drop(columns=[\"id\",\"nome\",\"host_id\",\"host_name\",\"bairro\",\"ultima_review\"])"
   ]
  },
  {
   "cell_type": "code",
   "execution_count": 6,
   "id": "abfd736f",
   "metadata": {},
   "outputs": [
    {
     "name": "stdout",
     "output_type": "stream",
     "text": [
      "Sugestão de preço: $344.58\n"
     ]
    }
   ],
   "source": [
    "novo_ap_df = pd.DataFrame([novo_apartamento], columns=X_all.columns)\n",
    "predicted_price = loaded_model.predict(novo_ap_df)\n",
    "\n",
    "print(f\"Sugestão de preço: ${predicted_price[0]:.2f}\")"
   ]
  }
 ],
 "metadata": {
  "kernelspec": {
   "display_name": "Python 3 (ipykernel)",
   "language": "python",
   "name": "python3"
  },
  "language_info": {
   "codemirror_mode": {
    "name": "ipython",
    "version": 3
   },
   "file_extension": ".py",
   "mimetype": "text/x-python",
   "name": "python",
   "nbconvert_exporter": "python",
   "pygments_lexer": "ipython3",
   "version": "3.11.5"
  }
 },
 "nbformat": 4,
 "nbformat_minor": 5
}
