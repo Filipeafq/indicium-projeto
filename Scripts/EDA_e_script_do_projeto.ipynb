{
 "cells": [
  {
   "cell_type": "markdown",
   "id": "3ba385fb",
   "metadata": {},
   "source": [
    "# EDA"
   ]
  },
  {
   "cell_type": "markdown",
   "id": "fd91892c",
   "metadata": {},
   "source": [
    "**O objetivo desse projeto é realizar um EDA do banco de dados disponibilizado e também criar um modelo de machine learning que consiga realizar a previsão dos preços dos apartamentos.**\n",
    "\n",
    "**As variáveis são:**\n",
    "\n",
    "**id – Atua como uma chave exclusiva para cada anúncio nos dados do aplicativo**\n",
    "\n",
    "**nome - Representa o nome do anúncio**\n",
    "\n",
    "**host_id - Representa o id do usuário que hospedou o anúncio**\n",
    "\n",
    "**host_name – Contém o nome do usuário que hospedou o anúncio**\n",
    "\n",
    "**bairro_group - Contém o nome do bairro onde o anúncio está localizado**\n",
    "\n",
    "**bairro - Contém o nome da área onde o anúncio está localizado**\n",
    "\n",
    "**latitude - Contém a latitude do local**\n",
    "\n",
    "**longitude - Contém a longitude do local**\n",
    "\n",
    "**room_type – Contém o tipo de espaço de cada anúncio**\n",
    "\n",
    "**price - Contém o preço por noite em dólares listado pelo anfitrião**\n",
    "\n",
    "**minimo_noites - Contém o número mínimo de noites que o usuário deve reservar**\n",
    "\n",
    "**numero_de_reviews - Contém o número de comentários dados a cada listagem**\n",
    "\n",
    "**ultima_review - Contém a data da última revisão dada à listagem**\n",
    "\n",
    "**reviews_por_mes - Contém o número de avaliações fornecidas por mês**\n",
    "\n",
    "**calculado_host_listings_count - Contém a quantidade de listagem por host**\n",
    "\n",
    "**disponibilidade_365 - Contém o número de dias em que o anúncio está disponível para reserva**\n",
    "\n"
   ]
  },
  {
   "cell_type": "code",
   "execution_count": 1,
   "id": "0fa30317",
   "metadata": {},
   "outputs": [],
   "source": [
    "import pandas as pd\n",
    "import numpy as np\n",
    "import seaborn as sns\n",
    "import matplotlib.pyplot as plt\n",
    "import warnings\n",
    "from sklearn.model_selection import train_test_split, cross_val_score\n",
    "from sklearn.ensemble import RandomForestRegressor\n",
    "from sklearn.metrics import mean_absolute_error, mean_squared_error, r2_score\n",
    "from sklearn.model_selection import KFold\n",
    "from sklearn.pipeline import Pipeline\n",
    "from sklearn.preprocessing import LabelEncoder\n",
    "from sklearn.compose import ColumnTransformer\n",
    "from sklearn.impute import SimpleImputer\n",
    "from sklearn.preprocessing import StandardScaler\n",
    "from sklearn.model_selection import GridSearchCV\n",
    "import xgboost as xgb"
   ]
  },
  {
   "cell_type": "code",
   "execution_count": 2,
   "id": "c3883b31",
   "metadata": {},
   "outputs": [],
   "source": [
    "warnings.filterwarnings('ignore')"
   ]
  },
  {
   "cell_type": "code",
   "execution_count": 3,
   "id": "053f5ba1",
   "metadata": {},
   "outputs": [],
   "source": [
    "dados_aluguel = pd.read_csv(\"teste_indicium_precificacao.csv\")"
   ]
  },
  {
   "cell_type": "markdown",
   "id": "7bb2e09f",
   "metadata": {},
   "source": [
    "## Observando o comportamento das variáveis do dataset"
   ]
  },
  {
   "cell_type": "code",
   "execution_count": 4,
   "id": "dc8a6f57",
   "metadata": {},
   "outputs": [
    {
     "data": {
      "text/html": [
       "<div>\n",
       "<style scoped>\n",
       "    .dataframe tbody tr th:only-of-type {\n",
       "        vertical-align: middle;\n",
       "    }\n",
       "\n",
       "    .dataframe tbody tr th {\n",
       "        vertical-align: top;\n",
       "    }\n",
       "\n",
       "    .dataframe thead th {\n",
       "        text-align: right;\n",
       "    }\n",
       "</style>\n",
       "<table border=\"1\" class=\"dataframe\">\n",
       "  <thead>\n",
       "    <tr style=\"text-align: right;\">\n",
       "      <th></th>\n",
       "      <th>id</th>\n",
       "      <th>nome</th>\n",
       "      <th>host_id</th>\n",
       "      <th>host_name</th>\n",
       "      <th>bairro_group</th>\n",
       "      <th>bairro</th>\n",
       "      <th>latitude</th>\n",
       "      <th>longitude</th>\n",
       "      <th>room_type</th>\n",
       "      <th>price</th>\n",
       "      <th>minimo_noites</th>\n",
       "      <th>numero_de_reviews</th>\n",
       "      <th>ultima_review</th>\n",
       "      <th>reviews_por_mes</th>\n",
       "      <th>calculado_host_listings_count</th>\n",
       "      <th>disponibilidade_365</th>\n",
       "    </tr>\n",
       "  </thead>\n",
       "  <tbody>\n",
       "    <tr>\n",
       "      <th>0</th>\n",
       "      <td>2595</td>\n",
       "      <td>Skylit Midtown Castle</td>\n",
       "      <td>2845</td>\n",
       "      <td>Jennifer</td>\n",
       "      <td>Manhattan</td>\n",
       "      <td>Midtown</td>\n",
       "      <td>40.75362</td>\n",
       "      <td>-73.98377</td>\n",
       "      <td>Entire home/apt</td>\n",
       "      <td>225</td>\n",
       "      <td>1</td>\n",
       "      <td>45</td>\n",
       "      <td>2019-05-21</td>\n",
       "      <td>0.38</td>\n",
       "      <td>2</td>\n",
       "      <td>355</td>\n",
       "    </tr>\n",
       "    <tr>\n",
       "      <th>1</th>\n",
       "      <td>3647</td>\n",
       "      <td>THE VILLAGE OF HARLEM....NEW YORK !</td>\n",
       "      <td>4632</td>\n",
       "      <td>Elisabeth</td>\n",
       "      <td>Manhattan</td>\n",
       "      <td>Harlem</td>\n",
       "      <td>40.80902</td>\n",
       "      <td>-73.94190</td>\n",
       "      <td>Private room</td>\n",
       "      <td>150</td>\n",
       "      <td>3</td>\n",
       "      <td>0</td>\n",
       "      <td>NaN</td>\n",
       "      <td>NaN</td>\n",
       "      <td>1</td>\n",
       "      <td>365</td>\n",
       "    </tr>\n",
       "    <tr>\n",
       "      <th>2</th>\n",
       "      <td>3831</td>\n",
       "      <td>Cozy Entire Floor of Brownstone</td>\n",
       "      <td>4869</td>\n",
       "      <td>LisaRoxanne</td>\n",
       "      <td>Brooklyn</td>\n",
       "      <td>Clinton Hill</td>\n",
       "      <td>40.68514</td>\n",
       "      <td>-73.95976</td>\n",
       "      <td>Entire home/apt</td>\n",
       "      <td>89</td>\n",
       "      <td>1</td>\n",
       "      <td>270</td>\n",
       "      <td>2019-07-05</td>\n",
       "      <td>4.64</td>\n",
       "      <td>1</td>\n",
       "      <td>194</td>\n",
       "    </tr>\n",
       "    <tr>\n",
       "      <th>3</th>\n",
       "      <td>5022</td>\n",
       "      <td>Entire Apt: Spacious Studio/Loft by central park</td>\n",
       "      <td>7192</td>\n",
       "      <td>Laura</td>\n",
       "      <td>Manhattan</td>\n",
       "      <td>East Harlem</td>\n",
       "      <td>40.79851</td>\n",
       "      <td>-73.94399</td>\n",
       "      <td>Entire home/apt</td>\n",
       "      <td>80</td>\n",
       "      <td>10</td>\n",
       "      <td>9</td>\n",
       "      <td>2018-11-19</td>\n",
       "      <td>0.10</td>\n",
       "      <td>1</td>\n",
       "      <td>0</td>\n",
       "    </tr>\n",
       "    <tr>\n",
       "      <th>4</th>\n",
       "      <td>5099</td>\n",
       "      <td>Large Cozy 1 BR Apartment In Midtown East</td>\n",
       "      <td>7322</td>\n",
       "      <td>Chris</td>\n",
       "      <td>Manhattan</td>\n",
       "      <td>Murray Hill</td>\n",
       "      <td>40.74767</td>\n",
       "      <td>-73.97500</td>\n",
       "      <td>Entire home/apt</td>\n",
       "      <td>200</td>\n",
       "      <td>3</td>\n",
       "      <td>74</td>\n",
       "      <td>2019-06-22</td>\n",
       "      <td>0.59</td>\n",
       "      <td>1</td>\n",
       "      <td>129</td>\n",
       "    </tr>\n",
       "  </tbody>\n",
       "</table>\n",
       "</div>"
      ],
      "text/plain": [
       "     id                                              nome  host_id  \\\n",
       "0  2595                             Skylit Midtown Castle     2845   \n",
       "1  3647               THE VILLAGE OF HARLEM....NEW YORK !     4632   \n",
       "2  3831                   Cozy Entire Floor of Brownstone     4869   \n",
       "3  5022  Entire Apt: Spacious Studio/Loft by central park     7192   \n",
       "4  5099         Large Cozy 1 BR Apartment In Midtown East     7322   \n",
       "\n",
       "     host_name bairro_group        bairro  latitude  longitude  \\\n",
       "0     Jennifer    Manhattan       Midtown  40.75362  -73.98377   \n",
       "1    Elisabeth    Manhattan        Harlem  40.80902  -73.94190   \n",
       "2  LisaRoxanne     Brooklyn  Clinton Hill  40.68514  -73.95976   \n",
       "3        Laura    Manhattan   East Harlem  40.79851  -73.94399   \n",
       "4        Chris    Manhattan   Murray Hill  40.74767  -73.97500   \n",
       "\n",
       "         room_type  price  minimo_noites  numero_de_reviews ultima_review  \\\n",
       "0  Entire home/apt    225              1                 45    2019-05-21   \n",
       "1     Private room    150              3                  0           NaN   \n",
       "2  Entire home/apt     89              1                270    2019-07-05   \n",
       "3  Entire home/apt     80             10                  9    2018-11-19   \n",
       "4  Entire home/apt    200              3                 74    2019-06-22   \n",
       "\n",
       "   reviews_por_mes  calculado_host_listings_count  disponibilidade_365  \n",
       "0             0.38                              2                  355  \n",
       "1              NaN                              1                  365  \n",
       "2             4.64                              1                  194  \n",
       "3             0.10                              1                    0  \n",
       "4             0.59                              1                  129  "
      ]
     },
     "execution_count": 4,
     "metadata": {},
     "output_type": "execute_result"
    }
   ],
   "source": [
    "dados_aluguel.head()"
   ]
  },
  {
   "cell_type": "markdown",
   "id": "a685b900",
   "metadata": {},
   "source": [
    "**Informações do dataset**"
   ]
  },
  {
   "cell_type": "code",
   "execution_count": 5,
   "id": "1cbb2f13",
   "metadata": {
    "scrolled": false
   },
   "outputs": [
    {
     "name": "stdout",
     "output_type": "stream",
     "text": [
      "<class 'pandas.core.frame.DataFrame'>\n",
      "RangeIndex: 48894 entries, 0 to 48893\n",
      "Data columns (total 16 columns):\n",
      " #   Column                         Non-Null Count  Dtype  \n",
      "---  ------                         --------------  -----  \n",
      " 0   id                             48894 non-null  int64  \n",
      " 1   nome                           48878 non-null  object \n",
      " 2   host_id                        48894 non-null  int64  \n",
      " 3   host_name                      48873 non-null  object \n",
      " 4   bairro_group                   48894 non-null  object \n",
      " 5   bairro                         48894 non-null  object \n",
      " 6   latitude                       48894 non-null  float64\n",
      " 7   longitude                      48894 non-null  float64\n",
      " 8   room_type                      48894 non-null  object \n",
      " 9   price                          48894 non-null  int64  \n",
      " 10  minimo_noites                  48894 non-null  int64  \n",
      " 11  numero_de_reviews              48894 non-null  int64  \n",
      " 12  ultima_review                  38842 non-null  object \n",
      " 13  reviews_por_mes                38842 non-null  float64\n",
      " 14  calculado_host_listings_count  48894 non-null  int64  \n",
      " 15  disponibilidade_365            48894 non-null  int64  \n",
      "dtypes: float64(3), int64(7), object(6)\n",
      "memory usage: 6.0+ MB\n"
     ]
    }
   ],
   "source": [
    "dados_aluguel.info()"
   ]
  },
  {
   "cell_type": "markdown",
   "id": "2ed88b3f",
   "metadata": {},
   "source": [
    "**Quantidade de NaN's no dataset**"
   ]
  },
  {
   "cell_type": "code",
   "execution_count": 6,
   "id": "54c13efa",
   "metadata": {
    "scrolled": true
   },
   "outputs": [
    {
     "data": {
      "text/plain": [
       "id                                   0\n",
       "nome                                16\n",
       "host_id                              0\n",
       "host_name                           21\n",
       "bairro_group                         0\n",
       "bairro                               0\n",
       "latitude                             0\n",
       "longitude                            0\n",
       "room_type                            0\n",
       "price                                0\n",
       "minimo_noites                        0\n",
       "numero_de_reviews                    0\n",
       "ultima_review                    10052\n",
       "reviews_por_mes                  10052\n",
       "calculado_host_listings_count        0\n",
       "disponibilidade_365                  0\n",
       "dtype: int64"
      ]
     },
     "execution_count": 6,
     "metadata": {},
     "output_type": "execute_result"
    }
   ],
   "source": [
    "dados_aluguel.isna().sum()"
   ]
  },
  {
   "cell_type": "markdown",
   "id": "1054f393",
   "metadata": {},
   "source": [
    "**É possível identificar alguns problemas com a base, algumas observações estão nulas, 16 para `nome`, 21 para o `host_name`, e 10052 para as variáveis `ultima_review` e `reviews_por_mes`. Sabendo disso, deve ser verificado cada uma das variáveis.**"
   ]
  },
  {
   "cell_type": "markdown",
   "id": "d5b42058",
   "metadata": {},
   "source": [
    "## Tratamento das variáveis"
   ]
  },
  {
   "cell_type": "markdown",
   "id": "991c5f22",
   "metadata": {},
   "source": [
    "**Ao realizar tratamento de variáveis, é necessário seguir alguns passos, pois, o banco de dados, caso possua dados faltantes ou erros, devem ser corrigidos, porém, essas correções devem ser feitas com cuidado, pois uma alteração no banco de dados pode levar a um viés no modelo final.**"
   ]
  },
  {
   "cell_type": "markdown",
   "id": "f3c9c8cc",
   "metadata": {},
   "source": [
    "### Variável `nome`"
   ]
  },
  {
   "cell_type": "code",
   "execution_count": 7,
   "id": "c69106aa",
   "metadata": {
    "scrolled": false
   },
   "outputs": [
    {
     "data": {
      "text/html": [
       "<div>\n",
       "<style scoped>\n",
       "    .dataframe tbody tr th:only-of-type {\n",
       "        vertical-align: middle;\n",
       "    }\n",
       "\n",
       "    .dataframe tbody tr th {\n",
       "        vertical-align: top;\n",
       "    }\n",
       "\n",
       "    .dataframe thead th {\n",
       "        text-align: right;\n",
       "    }\n",
       "</style>\n",
       "<table border=\"1\" class=\"dataframe\">\n",
       "  <thead>\n",
       "    <tr style=\"text-align: right;\">\n",
       "      <th></th>\n",
       "      <th>id</th>\n",
       "      <th>nome</th>\n",
       "      <th>host_id</th>\n",
       "      <th>host_name</th>\n",
       "      <th>bairro_group</th>\n",
       "      <th>bairro</th>\n",
       "      <th>latitude</th>\n",
       "      <th>longitude</th>\n",
       "      <th>room_type</th>\n",
       "      <th>price</th>\n",
       "      <th>minimo_noites</th>\n",
       "      <th>numero_de_reviews</th>\n",
       "      <th>ultima_review</th>\n",
       "      <th>reviews_por_mes</th>\n",
       "      <th>calculado_host_listings_count</th>\n",
       "      <th>disponibilidade_365</th>\n",
       "    </tr>\n",
       "  </thead>\n",
       "  <tbody>\n",
       "    <tr>\n",
       "      <th>2853</th>\n",
       "      <td>1615764</td>\n",
       "      <td>NaN</td>\n",
       "      <td>6676776</td>\n",
       "      <td>Peter</td>\n",
       "      <td>Manhattan</td>\n",
       "      <td>Battery Park City</td>\n",
       "      <td>40.71239</td>\n",
       "      <td>-74.01620</td>\n",
       "      <td>Entire home/apt</td>\n",
       "      <td>400</td>\n",
       "      <td>1000</td>\n",
       "      <td>0</td>\n",
       "      <td>NaN</td>\n",
       "      <td>NaN</td>\n",
       "      <td>1</td>\n",
       "      <td>362</td>\n",
       "    </tr>\n",
       "    <tr>\n",
       "      <th>3702</th>\n",
       "      <td>2232600</td>\n",
       "      <td>NaN</td>\n",
       "      <td>11395220</td>\n",
       "      <td>Anna</td>\n",
       "      <td>Manhattan</td>\n",
       "      <td>East Village</td>\n",
       "      <td>40.73215</td>\n",
       "      <td>-73.98821</td>\n",
       "      <td>Entire home/apt</td>\n",
       "      <td>200</td>\n",
       "      <td>1</td>\n",
       "      <td>28</td>\n",
       "      <td>2015-06-08</td>\n",
       "      <td>0.45</td>\n",
       "      <td>1</td>\n",
       "      <td>341</td>\n",
       "    </tr>\n",
       "    <tr>\n",
       "      <th>5774</th>\n",
       "      <td>4209595</td>\n",
       "      <td>NaN</td>\n",
       "      <td>20700823</td>\n",
       "      <td>Jesse</td>\n",
       "      <td>Manhattan</td>\n",
       "      <td>Greenwich Village</td>\n",
       "      <td>40.73473</td>\n",
       "      <td>-73.99244</td>\n",
       "      <td>Entire home/apt</td>\n",
       "      <td>225</td>\n",
       "      <td>1</td>\n",
       "      <td>1</td>\n",
       "      <td>2015-01-01</td>\n",
       "      <td>0.02</td>\n",
       "      <td>1</td>\n",
       "      <td>0</td>\n",
       "    </tr>\n",
       "    <tr>\n",
       "      <th>5974</th>\n",
       "      <td>4370230</td>\n",
       "      <td>NaN</td>\n",
       "      <td>22686810</td>\n",
       "      <td>Michaël</td>\n",
       "      <td>Manhattan</td>\n",
       "      <td>Nolita</td>\n",
       "      <td>40.72046</td>\n",
       "      <td>-73.99550</td>\n",
       "      <td>Entire home/apt</td>\n",
       "      <td>215</td>\n",
       "      <td>7</td>\n",
       "      <td>5</td>\n",
       "      <td>2016-01-02</td>\n",
       "      <td>0.09</td>\n",
       "      <td>1</td>\n",
       "      <td>0</td>\n",
       "    </tr>\n",
       "    <tr>\n",
       "      <th>6268</th>\n",
       "      <td>4581788</td>\n",
       "      <td>NaN</td>\n",
       "      <td>21600904</td>\n",
       "      <td>Lucie</td>\n",
       "      <td>Brooklyn</td>\n",
       "      <td>Williamsburg</td>\n",
       "      <td>40.71370</td>\n",
       "      <td>-73.94378</td>\n",
       "      <td>Private room</td>\n",
       "      <td>150</td>\n",
       "      <td>1</td>\n",
       "      <td>0</td>\n",
       "      <td>NaN</td>\n",
       "      <td>NaN</td>\n",
       "      <td>1</td>\n",
       "      <td>0</td>\n",
       "    </tr>\n",
       "    <tr>\n",
       "      <th>6566</th>\n",
       "      <td>4756856</td>\n",
       "      <td>NaN</td>\n",
       "      <td>1832442</td>\n",
       "      <td>Carolina</td>\n",
       "      <td>Brooklyn</td>\n",
       "      <td>Bushwick</td>\n",
       "      <td>40.70046</td>\n",
       "      <td>-73.92825</td>\n",
       "      <td>Private room</td>\n",
       "      <td>70</td>\n",
       "      <td>1</td>\n",
       "      <td>0</td>\n",
       "      <td>NaN</td>\n",
       "      <td>NaN</td>\n",
       "      <td>1</td>\n",
       "      <td>0</td>\n",
       "    </tr>\n",
       "    <tr>\n",
       "      <th>6604</th>\n",
       "      <td>4774658</td>\n",
       "      <td>NaN</td>\n",
       "      <td>24625694</td>\n",
       "      <td>Josh</td>\n",
       "      <td>Manhattan</td>\n",
       "      <td>Washington Heights</td>\n",
       "      <td>40.85198</td>\n",
       "      <td>-73.93108</td>\n",
       "      <td>Private room</td>\n",
       "      <td>40</td>\n",
       "      <td>1</td>\n",
       "      <td>0</td>\n",
       "      <td>NaN</td>\n",
       "      <td>NaN</td>\n",
       "      <td>1</td>\n",
       "      <td>0</td>\n",
       "    </tr>\n",
       "    <tr>\n",
       "      <th>8840</th>\n",
       "      <td>6782407</td>\n",
       "      <td>NaN</td>\n",
       "      <td>31147528</td>\n",
       "      <td>Huei-Yin</td>\n",
       "      <td>Brooklyn</td>\n",
       "      <td>Williamsburg</td>\n",
       "      <td>40.71354</td>\n",
       "      <td>-73.93882</td>\n",
       "      <td>Private room</td>\n",
       "      <td>45</td>\n",
       "      <td>1</td>\n",
       "      <td>0</td>\n",
       "      <td>NaN</td>\n",
       "      <td>NaN</td>\n",
       "      <td>1</td>\n",
       "      <td>0</td>\n",
       "    </tr>\n",
       "    <tr>\n",
       "      <th>11962</th>\n",
       "      <td>9325951</td>\n",
       "      <td>NaN</td>\n",
       "      <td>33377685</td>\n",
       "      <td>Jonathan</td>\n",
       "      <td>Manhattan</td>\n",
       "      <td>Hell's Kitchen</td>\n",
       "      <td>40.76436</td>\n",
       "      <td>-73.98573</td>\n",
       "      <td>Entire home/apt</td>\n",
       "      <td>190</td>\n",
       "      <td>4</td>\n",
       "      <td>1</td>\n",
       "      <td>2016-01-05</td>\n",
       "      <td>0.02</td>\n",
       "      <td>1</td>\n",
       "      <td>0</td>\n",
       "    </tr>\n",
       "    <tr>\n",
       "      <th>12823</th>\n",
       "      <td>9787590</td>\n",
       "      <td>NaN</td>\n",
       "      <td>50448556</td>\n",
       "      <td>Miguel</td>\n",
       "      <td>Manhattan</td>\n",
       "      <td>Harlem</td>\n",
       "      <td>40.80316</td>\n",
       "      <td>-73.95189</td>\n",
       "      <td>Entire home/apt</td>\n",
       "      <td>300</td>\n",
       "      <td>5</td>\n",
       "      <td>0</td>\n",
       "      <td>NaN</td>\n",
       "      <td>NaN</td>\n",
       "      <td>5</td>\n",
       "      <td>0</td>\n",
       "    </tr>\n",
       "    <tr>\n",
       "      <th>13058</th>\n",
       "      <td>9885866</td>\n",
       "      <td>NaN</td>\n",
       "      <td>37306329</td>\n",
       "      <td>Juliette</td>\n",
       "      <td>Manhattan</td>\n",
       "      <td>Chinatown</td>\n",
       "      <td>40.71632</td>\n",
       "      <td>-73.99328</td>\n",
       "      <td>Private room</td>\n",
       "      <td>67</td>\n",
       "      <td>4</td>\n",
       "      <td>0</td>\n",
       "      <td>NaN</td>\n",
       "      <td>NaN</td>\n",
       "      <td>1</td>\n",
       "      <td>0</td>\n",
       "    </tr>\n",
       "    <tr>\n",
       "      <th>13400</th>\n",
       "      <td>10052289</td>\n",
       "      <td>NaN</td>\n",
       "      <td>49522403</td>\n",
       "      <td>Vanessa</td>\n",
       "      <td>Brooklyn</td>\n",
       "      <td>Brownsville</td>\n",
       "      <td>40.66409</td>\n",
       "      <td>-73.92314</td>\n",
       "      <td>Private room</td>\n",
       "      <td>50</td>\n",
       "      <td>3</td>\n",
       "      <td>3</td>\n",
       "      <td>2016-08-18</td>\n",
       "      <td>0.07</td>\n",
       "      <td>1</td>\n",
       "      <td>362</td>\n",
       "    </tr>\n",
       "    <tr>\n",
       "      <th>15818</th>\n",
       "      <td>12797684</td>\n",
       "      <td>NaN</td>\n",
       "      <td>69715276</td>\n",
       "      <td>Yan</td>\n",
       "      <td>Manhattan</td>\n",
       "      <td>Upper West Side</td>\n",
       "      <td>40.79843</td>\n",
       "      <td>-73.96404</td>\n",
       "      <td>Private room</td>\n",
       "      <td>100</td>\n",
       "      <td>1</td>\n",
       "      <td>0</td>\n",
       "      <td>NaN</td>\n",
       "      <td>NaN</td>\n",
       "      <td>2</td>\n",
       "      <td>0</td>\n",
       "    </tr>\n",
       "    <tr>\n",
       "      <th>16070</th>\n",
       "      <td>12988898</td>\n",
       "      <td>NaN</td>\n",
       "      <td>71552588</td>\n",
       "      <td>Andrea</td>\n",
       "      <td>Bronx</td>\n",
       "      <td>Fordham</td>\n",
       "      <td>40.86032</td>\n",
       "      <td>-73.88493</td>\n",
       "      <td>Shared room</td>\n",
       "      <td>130</td>\n",
       "      <td>1</td>\n",
       "      <td>0</td>\n",
       "      <td>NaN</td>\n",
       "      <td>NaN</td>\n",
       "      <td>1</td>\n",
       "      <td>365</td>\n",
       "    </tr>\n",
       "    <tr>\n",
       "      <th>18046</th>\n",
       "      <td>14135050</td>\n",
       "      <td>NaN</td>\n",
       "      <td>85288337</td>\n",
       "      <td>Jeff</td>\n",
       "      <td>Brooklyn</td>\n",
       "      <td>Bedford-Stuyvesant</td>\n",
       "      <td>40.69421</td>\n",
       "      <td>-73.93234</td>\n",
       "      <td>Private room</td>\n",
       "      <td>70</td>\n",
       "      <td>3</td>\n",
       "      <td>0</td>\n",
       "      <td>NaN</td>\n",
       "      <td>NaN</td>\n",
       "      <td>1</td>\n",
       "      <td>0</td>\n",
       "    </tr>\n",
       "    <tr>\n",
       "      <th>28888</th>\n",
       "      <td>22275821</td>\n",
       "      <td>NaN</td>\n",
       "      <td>49662398</td>\n",
       "      <td>Kathleen</td>\n",
       "      <td>Brooklyn</td>\n",
       "      <td>Bushwick</td>\n",
       "      <td>40.69546</td>\n",
       "      <td>-73.92741</td>\n",
       "      <td>Entire home/apt</td>\n",
       "      <td>110</td>\n",
       "      <td>4</td>\n",
       "      <td>5</td>\n",
       "      <td>2018-08-13</td>\n",
       "      <td>0.27</td>\n",
       "      <td>1</td>\n",
       "      <td>0</td>\n",
       "    </tr>\n",
       "  </tbody>\n",
       "</table>\n",
       "</div>"
      ],
      "text/plain": [
       "             id nome   host_id host_name bairro_group              bairro  \\\n",
       "2853    1615764  NaN   6676776     Peter    Manhattan   Battery Park City   \n",
       "3702    2232600  NaN  11395220      Anna    Manhattan        East Village   \n",
       "5774    4209595  NaN  20700823     Jesse    Manhattan   Greenwich Village   \n",
       "5974    4370230  NaN  22686810   Michaël    Manhattan              Nolita   \n",
       "6268    4581788  NaN  21600904     Lucie     Brooklyn        Williamsburg   \n",
       "6566    4756856  NaN   1832442  Carolina     Brooklyn            Bushwick   \n",
       "6604    4774658  NaN  24625694      Josh    Manhattan  Washington Heights   \n",
       "8840    6782407  NaN  31147528  Huei-Yin     Brooklyn        Williamsburg   \n",
       "11962   9325951  NaN  33377685  Jonathan    Manhattan      Hell's Kitchen   \n",
       "12823   9787590  NaN  50448556    Miguel    Manhattan              Harlem   \n",
       "13058   9885866  NaN  37306329  Juliette    Manhattan           Chinatown   \n",
       "13400  10052289  NaN  49522403   Vanessa     Brooklyn         Brownsville   \n",
       "15818  12797684  NaN  69715276       Yan    Manhattan     Upper West Side   \n",
       "16070  12988898  NaN  71552588    Andrea        Bronx             Fordham   \n",
       "18046  14135050  NaN  85288337      Jeff     Brooklyn  Bedford-Stuyvesant   \n",
       "28888  22275821  NaN  49662398  Kathleen     Brooklyn            Bushwick   \n",
       "\n",
       "       latitude  longitude        room_type  price  minimo_noites  \\\n",
       "2853   40.71239  -74.01620  Entire home/apt    400           1000   \n",
       "3702   40.73215  -73.98821  Entire home/apt    200              1   \n",
       "5774   40.73473  -73.99244  Entire home/apt    225              1   \n",
       "5974   40.72046  -73.99550  Entire home/apt    215              7   \n",
       "6268   40.71370  -73.94378     Private room    150              1   \n",
       "6566   40.70046  -73.92825     Private room     70              1   \n",
       "6604   40.85198  -73.93108     Private room     40              1   \n",
       "8840   40.71354  -73.93882     Private room     45              1   \n",
       "11962  40.76436  -73.98573  Entire home/apt    190              4   \n",
       "12823  40.80316  -73.95189  Entire home/apt    300              5   \n",
       "13058  40.71632  -73.99328     Private room     67              4   \n",
       "13400  40.66409  -73.92314     Private room     50              3   \n",
       "15818  40.79843  -73.96404     Private room    100              1   \n",
       "16070  40.86032  -73.88493      Shared room    130              1   \n",
       "18046  40.69421  -73.93234     Private room     70              3   \n",
       "28888  40.69546  -73.92741  Entire home/apt    110              4   \n",
       "\n",
       "       numero_de_reviews ultima_review  reviews_por_mes  \\\n",
       "2853                   0           NaN              NaN   \n",
       "3702                  28    2015-06-08             0.45   \n",
       "5774                   1    2015-01-01             0.02   \n",
       "5974                   5    2016-01-02             0.09   \n",
       "6268                   0           NaN              NaN   \n",
       "6566                   0           NaN              NaN   \n",
       "6604                   0           NaN              NaN   \n",
       "8840                   0           NaN              NaN   \n",
       "11962                  1    2016-01-05             0.02   \n",
       "12823                  0           NaN              NaN   \n",
       "13058                  0           NaN              NaN   \n",
       "13400                  3    2016-08-18             0.07   \n",
       "15818                  0           NaN              NaN   \n",
       "16070                  0           NaN              NaN   \n",
       "18046                  0           NaN              NaN   \n",
       "28888                  5    2018-08-13             0.27   \n",
       "\n",
       "       calculado_host_listings_count  disponibilidade_365  \n",
       "2853                               1                  362  \n",
       "3702                               1                  341  \n",
       "5774                               1                    0  \n",
       "5974                               1                    0  \n",
       "6268                               1                    0  \n",
       "6566                               1                    0  \n",
       "6604                               1                    0  \n",
       "8840                               1                    0  \n",
       "11962                              1                    0  \n",
       "12823                              5                    0  \n",
       "13058                              1                    0  \n",
       "13400                              1                  362  \n",
       "15818                              2                    0  \n",
       "16070                              1                  365  \n",
       "18046                              1                    0  \n",
       "28888                              1                    0  "
      ]
     },
     "execution_count": 7,
     "metadata": {},
     "output_type": "execute_result"
    }
   ],
   "source": [
    "dados_aluguel[dados_aluguel[\"nome\"].isna()]"
   ]
  },
  {
   "cell_type": "markdown",
   "id": "4fff7769",
   "metadata": {},
   "source": [
    "**A variável `nome`, por ser qualitativa e única para cada observação, não possui relevância estatística. Portanto, deve ser substituída por algum valor ou removida do dataset. No entanto, removê-la não é a melhor opção, pois quanto mais dados o dataset possuir, mais preciso será o modelo de predição de preços. Assim, todos os valores `NaN` serão substituídos por `Outros`.**"
   ]
  },
  {
   "cell_type": "code",
   "execution_count": 8,
   "id": "eb58e8d2",
   "metadata": {},
   "outputs": [],
   "source": [
    "dados_aluguel[\"nome\"] = dados_aluguel[\"nome\"].fillna(value = \"Outros\")"
   ]
  },
  {
   "cell_type": "markdown",
   "id": "248a0ace",
   "metadata": {},
   "source": [
    "### Variável `host_name`"
   ]
  },
  {
   "cell_type": "code",
   "execution_count": 9,
   "id": "0de49284",
   "metadata": {},
   "outputs": [
    {
     "data": {
      "text/html": [
       "<div>\n",
       "<style scoped>\n",
       "    .dataframe tbody tr th:only-of-type {\n",
       "        vertical-align: middle;\n",
       "    }\n",
       "\n",
       "    .dataframe tbody tr th {\n",
       "        vertical-align: top;\n",
       "    }\n",
       "\n",
       "    .dataframe thead th {\n",
       "        text-align: right;\n",
       "    }\n",
       "</style>\n",
       "<table border=\"1\" class=\"dataframe\">\n",
       "  <thead>\n",
       "    <tr style=\"text-align: right;\">\n",
       "      <th></th>\n",
       "      <th>id</th>\n",
       "      <th>nome</th>\n",
       "      <th>host_id</th>\n",
       "      <th>host_name</th>\n",
       "      <th>bairro_group</th>\n",
       "      <th>bairro</th>\n",
       "      <th>latitude</th>\n",
       "      <th>longitude</th>\n",
       "      <th>room_type</th>\n",
       "      <th>price</th>\n",
       "      <th>minimo_noites</th>\n",
       "      <th>numero_de_reviews</th>\n",
       "      <th>ultima_review</th>\n",
       "      <th>reviews_por_mes</th>\n",
       "      <th>calculado_host_listings_count</th>\n",
       "      <th>disponibilidade_365</th>\n",
       "    </tr>\n",
       "  </thead>\n",
       "  <tbody>\n",
       "    <tr>\n",
       "      <th>359</th>\n",
       "      <td>100184</td>\n",
       "      <td>Bienvenue</td>\n",
       "      <td>526653</td>\n",
       "      <td>NaN</td>\n",
       "      <td>Queens</td>\n",
       "      <td>Queens Village</td>\n",
       "      <td>40.72413</td>\n",
       "      <td>-73.76133</td>\n",
       "      <td>Private room</td>\n",
       "      <td>50</td>\n",
       "      <td>1</td>\n",
       "      <td>43</td>\n",
       "      <td>2019-07-08</td>\n",
       "      <td>0.45</td>\n",
       "      <td>1</td>\n",
       "      <td>88</td>\n",
       "    </tr>\n",
       "    <tr>\n",
       "      <th>2699</th>\n",
       "      <td>1449546</td>\n",
       "      <td>Cozy Studio in Flatbush</td>\n",
       "      <td>7779204</td>\n",
       "      <td>NaN</td>\n",
       "      <td>Brooklyn</td>\n",
       "      <td>Flatbush</td>\n",
       "      <td>40.64965</td>\n",
       "      <td>-73.96154</td>\n",
       "      <td>Entire home/apt</td>\n",
       "      <td>100</td>\n",
       "      <td>30</td>\n",
       "      <td>49</td>\n",
       "      <td>2017-01-02</td>\n",
       "      <td>0.69</td>\n",
       "      <td>1</td>\n",
       "      <td>342</td>\n",
       "    </tr>\n",
       "    <tr>\n",
       "      <th>5744</th>\n",
       "      <td>4183989</td>\n",
       "      <td>SPRING in the City!! Zen-Style Tranquil Bedroom</td>\n",
       "      <td>919218</td>\n",
       "      <td>NaN</td>\n",
       "      <td>Manhattan</td>\n",
       "      <td>Harlem</td>\n",
       "      <td>40.80606</td>\n",
       "      <td>-73.95061</td>\n",
       "      <td>Private room</td>\n",
       "      <td>86</td>\n",
       "      <td>3</td>\n",
       "      <td>34</td>\n",
       "      <td>2019-05-23</td>\n",
       "      <td>1.00</td>\n",
       "      <td>1</td>\n",
       "      <td>359</td>\n",
       "    </tr>\n",
       "    <tr>\n",
       "      <th>6074</th>\n",
       "      <td>4446862</td>\n",
       "      <td>Charming Room in Prospect Heights!</td>\n",
       "      <td>23077718</td>\n",
       "      <td>NaN</td>\n",
       "      <td>Brooklyn</td>\n",
       "      <td>Crown Heights</td>\n",
       "      <td>40.67512</td>\n",
       "      <td>-73.96146</td>\n",
       "      <td>Private room</td>\n",
       "      <td>50</td>\n",
       "      <td>1</td>\n",
       "      <td>0</td>\n",
       "      <td>NaN</td>\n",
       "      <td>NaN</td>\n",
       "      <td>1</td>\n",
       "      <td>0</td>\n",
       "    </tr>\n",
       "    <tr>\n",
       "      <th>6581</th>\n",
       "      <td>4763327</td>\n",
       "      <td>Luxurious, best location, spa inc'l</td>\n",
       "      <td>24576978</td>\n",
       "      <td>NaN</td>\n",
       "      <td>Brooklyn</td>\n",
       "      <td>Greenpoint</td>\n",
       "      <td>40.72035</td>\n",
       "      <td>-73.95355</td>\n",
       "      <td>Entire home/apt</td>\n",
       "      <td>195</td>\n",
       "      <td>1</td>\n",
       "      <td>1</td>\n",
       "      <td>2015-10-20</td>\n",
       "      <td>0.02</td>\n",
       "      <td>1</td>\n",
       "      <td>0</td>\n",
       "    </tr>\n",
       "    <tr>\n",
       "      <th>8162</th>\n",
       "      <td>6292866</td>\n",
       "      <td>Modern Quiet Gem Near All</td>\n",
       "      <td>32722063</td>\n",
       "      <td>NaN</td>\n",
       "      <td>Brooklyn</td>\n",
       "      <td>East Flatbush</td>\n",
       "      <td>40.65263</td>\n",
       "      <td>-73.93215</td>\n",
       "      <td>Entire home/apt</td>\n",
       "      <td>85</td>\n",
       "      <td>2</td>\n",
       "      <td>182</td>\n",
       "      <td>2019-06-19</td>\n",
       "      <td>3.59</td>\n",
       "      <td>2</td>\n",
       "      <td>318</td>\n",
       "    </tr>\n",
       "    <tr>\n",
       "      <th>8256</th>\n",
       "      <td>6360224</td>\n",
       "      <td>Sunny, Private room in Bushwick</td>\n",
       "      <td>33134899</td>\n",
       "      <td>NaN</td>\n",
       "      <td>Brooklyn</td>\n",
       "      <td>Bushwick</td>\n",
       "      <td>40.70146</td>\n",
       "      <td>-73.92792</td>\n",
       "      <td>Private room</td>\n",
       "      <td>37</td>\n",
       "      <td>1</td>\n",
       "      <td>1</td>\n",
       "      <td>2015-07-01</td>\n",
       "      <td>0.02</td>\n",
       "      <td>1</td>\n",
       "      <td>0</td>\n",
       "    </tr>\n",
       "    <tr>\n",
       "      <th>8851</th>\n",
       "      <td>6786181</td>\n",
       "      <td>R&amp;S Modern Spacious Hideaway</td>\n",
       "      <td>32722063</td>\n",
       "      <td>NaN</td>\n",
       "      <td>Brooklyn</td>\n",
       "      <td>East Flatbush</td>\n",
       "      <td>40.64345</td>\n",
       "      <td>-73.93643</td>\n",
       "      <td>Entire home/apt</td>\n",
       "      <td>100</td>\n",
       "      <td>2</td>\n",
       "      <td>157</td>\n",
       "      <td>2019-06-19</td>\n",
       "      <td>3.18</td>\n",
       "      <td>2</td>\n",
       "      <td>342</td>\n",
       "    </tr>\n",
       "    <tr>\n",
       "      <th>9137</th>\n",
       "      <td>6992973</td>\n",
       "      <td>1 Bedroom in Prime Williamsburg</td>\n",
       "      <td>5162530</td>\n",
       "      <td>NaN</td>\n",
       "      <td>Brooklyn</td>\n",
       "      <td>Williamsburg</td>\n",
       "      <td>40.71838</td>\n",
       "      <td>-73.95630</td>\n",
       "      <td>Entire home/apt</td>\n",
       "      <td>145</td>\n",
       "      <td>1</td>\n",
       "      <td>0</td>\n",
       "      <td>NaN</td>\n",
       "      <td>NaN</td>\n",
       "      <td>1</td>\n",
       "      <td>0</td>\n",
       "    </tr>\n",
       "    <tr>\n",
       "      <th>9816</th>\n",
       "      <td>7556587</td>\n",
       "      <td>Sunny Room in Harlem</td>\n",
       "      <td>39608626</td>\n",
       "      <td>NaN</td>\n",
       "      <td>Manhattan</td>\n",
       "      <td>Harlem</td>\n",
       "      <td>40.82929</td>\n",
       "      <td>-73.94182</td>\n",
       "      <td>Private room</td>\n",
       "      <td>28</td>\n",
       "      <td>1</td>\n",
       "      <td>1</td>\n",
       "      <td>2015-08-01</td>\n",
       "      <td>0.02</td>\n",
       "      <td>1</td>\n",
       "      <td>0</td>\n",
       "    </tr>\n",
       "    <tr>\n",
       "      <th>14039</th>\n",
       "      <td>10709846</td>\n",
       "      <td>Sunny, spacious room in Greenpoint</td>\n",
       "      <td>7822683</td>\n",
       "      <td>NaN</td>\n",
       "      <td>Brooklyn</td>\n",
       "      <td>Greenpoint</td>\n",
       "      <td>40.73539</td>\n",
       "      <td>-73.95838</td>\n",
       "      <td>Private room</td>\n",
       "      <td>55</td>\n",
       "      <td>10</td>\n",
       "      <td>2</td>\n",
       "      <td>2016-11-05</td>\n",
       "      <td>0.05</td>\n",
       "      <td>1</td>\n",
       "      <td>0</td>\n",
       "    </tr>\n",
       "    <tr>\n",
       "      <th>14630</th>\n",
       "      <td>11553543</td>\n",
       "      <td>Cozy Room Astoria</td>\n",
       "      <td>26138712</td>\n",
       "      <td>NaN</td>\n",
       "      <td>Queens</td>\n",
       "      <td>Ditmars Steinway</td>\n",
       "      <td>40.77587</td>\n",
       "      <td>-73.91775</td>\n",
       "      <td>Private room</td>\n",
       "      <td>45</td>\n",
       "      <td>1</td>\n",
       "      <td>5</td>\n",
       "      <td>2017-01-01</td>\n",
       "      <td>0.13</td>\n",
       "      <td>1</td>\n",
       "      <td>0</td>\n",
       "    </tr>\n",
       "    <tr>\n",
       "      <th>15173</th>\n",
       "      <td>12113879</td>\n",
       "      <td>Sunny, Large West Village 1 BR Near Everything</td>\n",
       "      <td>5300585</td>\n",
       "      <td>NaN</td>\n",
       "      <td>Manhattan</td>\n",
       "      <td>Chelsea</td>\n",
       "      <td>40.73949</td>\n",
       "      <td>-73.99801</td>\n",
       "      <td>Entire home/apt</td>\n",
       "      <td>220</td>\n",
       "      <td>4</td>\n",
       "      <td>81</td>\n",
       "      <td>2019-07-02</td>\n",
       "      <td>2.11</td>\n",
       "      <td>1</td>\n",
       "      <td>217</td>\n",
       "    </tr>\n",
       "    <tr>\n",
       "      <th>19564</th>\n",
       "      <td>15648096</td>\n",
       "      <td>Spacious 2 bedroom close to Manhattan</td>\n",
       "      <td>100971588</td>\n",
       "      <td>NaN</td>\n",
       "      <td>Bronx</td>\n",
       "      <td>Highbridge</td>\n",
       "      <td>40.83844</td>\n",
       "      <td>-73.92489</td>\n",
       "      <td>Entire home/apt</td>\n",
       "      <td>75</td>\n",
       "      <td>4</td>\n",
       "      <td>37</td>\n",
       "      <td>2019-07-07</td>\n",
       "      <td>1.21</td>\n",
       "      <td>1</td>\n",
       "      <td>26</td>\n",
       "    </tr>\n",
       "    <tr>\n",
       "      <th>27776</th>\n",
       "      <td>21787094</td>\n",
       "      <td>Spacious and Bright Midtown East Apartment</td>\n",
       "      <td>415290</td>\n",
       "      <td>NaN</td>\n",
       "      <td>Manhattan</td>\n",
       "      <td>Upper East Side</td>\n",
       "      <td>40.76436</td>\n",
       "      <td>-73.96836</td>\n",
       "      <td>Entire home/apt</td>\n",
       "      <td>325</td>\n",
       "      <td>1</td>\n",
       "      <td>0</td>\n",
       "      <td>NaN</td>\n",
       "      <td>NaN</td>\n",
       "      <td>1</td>\n",
       "      <td>0</td>\n",
       "    </tr>\n",
       "    <tr>\n",
       "      <th>27961</th>\n",
       "      <td>21867710</td>\n",
       "      <td>Amazing room in the centre on Manhatten! Welcome!</td>\n",
       "      <td>159156636</td>\n",
       "      <td>NaN</td>\n",
       "      <td>Manhattan</td>\n",
       "      <td>Hell's Kitchen</td>\n",
       "      <td>40.75668</td>\n",
       "      <td>-73.99097</td>\n",
       "      <td>Private room</td>\n",
       "      <td>120</td>\n",
       "      <td>1</td>\n",
       "      <td>89</td>\n",
       "      <td>2019-01-01</td>\n",
       "      <td>5.16</td>\n",
       "      <td>3</td>\n",
       "      <td>0</td>\n",
       "    </tr>\n",
       "    <tr>\n",
       "      <th>28041</th>\n",
       "      <td>21901156</td>\n",
       "      <td>Best Deal! Lovely place in Manhattan! Time Squ...</td>\n",
       "      <td>159156636</td>\n",
       "      <td>NaN</td>\n",
       "      <td>Manhattan</td>\n",
       "      <td>Hell's Kitchen</td>\n",
       "      <td>40.75656</td>\n",
       "      <td>-73.99063</td>\n",
       "      <td>Private room</td>\n",
       "      <td>120</td>\n",
       "      <td>1</td>\n",
       "      <td>109</td>\n",
       "      <td>2019-01-01</td>\n",
       "      <td>5.97</td>\n",
       "      <td>3</td>\n",
       "      <td>0</td>\n",
       "    </tr>\n",
       "    <tr>\n",
       "      <th>28273</th>\n",
       "      <td>21990808</td>\n",
       "      <td>***SLEEPING IN THE GOLDEN PLACE***</td>\n",
       "      <td>159156636</td>\n",
       "      <td>NaN</td>\n",
       "      <td>Manhattan</td>\n",
       "      <td>Hell's Kitchen</td>\n",
       "      <td>40.75835</td>\n",
       "      <td>-73.99065</td>\n",
       "      <td>Private room</td>\n",
       "      <td>120</td>\n",
       "      <td>1</td>\n",
       "      <td>88</td>\n",
       "      <td>2018-12-14</td>\n",
       "      <td>4.93</td>\n",
       "      <td>3</td>\n",
       "      <td>0</td>\n",
       "    </tr>\n",
       "    <tr>\n",
       "      <th>30569</th>\n",
       "      <td>23660605</td>\n",
       "      <td>Private Bedroom w/ Balcony view of Central Park</td>\n",
       "      <td>177146433</td>\n",
       "      <td>NaN</td>\n",
       "      <td>Manhattan</td>\n",
       "      <td>East Harlem</td>\n",
       "      <td>40.79766</td>\n",
       "      <td>-73.94824</td>\n",
       "      <td>Private room</td>\n",
       "      <td>139</td>\n",
       "      <td>1</td>\n",
       "      <td>6</td>\n",
       "      <td>2018-08-12</td>\n",
       "      <td>0.46</td>\n",
       "      <td>1</td>\n",
       "      <td>0</td>\n",
       "    </tr>\n",
       "    <tr>\n",
       "      <th>32192</th>\n",
       "      <td>25180572</td>\n",
       "      <td>Beautiful Cozy Studio Apt. UWS</td>\n",
       "      <td>119609345</td>\n",
       "      <td>NaN</td>\n",
       "      <td>Manhattan</td>\n",
       "      <td>Upper West Side</td>\n",
       "      <td>40.77701</td>\n",
       "      <td>-73.97667</td>\n",
       "      <td>Entire home/apt</td>\n",
       "      <td>180</td>\n",
       "      <td>4</td>\n",
       "      <td>0</td>\n",
       "      <td>NaN</td>\n",
       "      <td>NaN</td>\n",
       "      <td>1</td>\n",
       "      <td>0</td>\n",
       "    </tr>\n",
       "    <tr>\n",
       "      <th>38991</th>\n",
       "      <td>30468335</td>\n",
       "      <td>LARGE Prospect Lefferts Gardens Bedroom</td>\n",
       "      <td>228750026</td>\n",
       "      <td>NaN</td>\n",
       "      <td>Brooklyn</td>\n",
       "      <td>Flatbush</td>\n",
       "      <td>40.65152</td>\n",
       "      <td>-73.95271</td>\n",
       "      <td>Private room</td>\n",
       "      <td>55</td>\n",
       "      <td>7</td>\n",
       "      <td>0</td>\n",
       "      <td>NaN</td>\n",
       "      <td>NaN</td>\n",
       "      <td>1</td>\n",
       "      <td>69</td>\n",
       "    </tr>\n",
       "  </tbody>\n",
       "</table>\n",
       "</div>"
      ],
      "text/plain": [
       "             id                                               nome    host_id  \\\n",
       "359      100184                                          Bienvenue     526653   \n",
       "2699    1449546                            Cozy Studio in Flatbush    7779204   \n",
       "5744    4183989    SPRING in the City!! Zen-Style Tranquil Bedroom     919218   \n",
       "6074    4446862                 Charming Room in Prospect Heights!   23077718   \n",
       "6581    4763327                Luxurious, best location, spa inc'l   24576978   \n",
       "8162    6292866                          Modern Quiet Gem Near All   32722063   \n",
       "8256    6360224                    Sunny, Private room in Bushwick   33134899   \n",
       "8851    6786181                       R&S Modern Spacious Hideaway   32722063   \n",
       "9137    6992973                    1 Bedroom in Prime Williamsburg    5162530   \n",
       "9816    7556587                               Sunny Room in Harlem   39608626   \n",
       "14039  10709846                 Sunny, spacious room in Greenpoint    7822683   \n",
       "14630  11553543                                  Cozy Room Astoria   26138712   \n",
       "15173  12113879     Sunny, Large West Village 1 BR Near Everything    5300585   \n",
       "19564  15648096              Spacious 2 bedroom close to Manhattan  100971588   \n",
       "27776  21787094         Spacious and Bright Midtown East Apartment     415290   \n",
       "27961  21867710  Amazing room in the centre on Manhatten! Welcome!  159156636   \n",
       "28041  21901156  Best Deal! Lovely place in Manhattan! Time Squ...  159156636   \n",
       "28273  21990808                 ***SLEEPING IN THE GOLDEN PLACE***  159156636   \n",
       "30569  23660605    Private Bedroom w/ Balcony view of Central Park  177146433   \n",
       "32192  25180572                     Beautiful Cozy Studio Apt. UWS  119609345   \n",
       "38991  30468335            LARGE Prospect Lefferts Gardens Bedroom  228750026   \n",
       "\n",
       "      host_name bairro_group            bairro  latitude  longitude  \\\n",
       "359         NaN       Queens    Queens Village  40.72413  -73.76133   \n",
       "2699        NaN     Brooklyn          Flatbush  40.64965  -73.96154   \n",
       "5744        NaN    Manhattan            Harlem  40.80606  -73.95061   \n",
       "6074        NaN     Brooklyn     Crown Heights  40.67512  -73.96146   \n",
       "6581        NaN     Brooklyn        Greenpoint  40.72035  -73.95355   \n",
       "8162        NaN     Brooklyn     East Flatbush  40.65263  -73.93215   \n",
       "8256        NaN     Brooklyn          Bushwick  40.70146  -73.92792   \n",
       "8851        NaN     Brooklyn     East Flatbush  40.64345  -73.93643   \n",
       "9137        NaN     Brooklyn      Williamsburg  40.71838  -73.95630   \n",
       "9816        NaN    Manhattan            Harlem  40.82929  -73.94182   \n",
       "14039       NaN     Brooklyn        Greenpoint  40.73539  -73.95838   \n",
       "14630       NaN       Queens  Ditmars Steinway  40.77587  -73.91775   \n",
       "15173       NaN    Manhattan           Chelsea  40.73949  -73.99801   \n",
       "19564       NaN        Bronx        Highbridge  40.83844  -73.92489   \n",
       "27776       NaN    Manhattan   Upper East Side  40.76436  -73.96836   \n",
       "27961       NaN    Manhattan    Hell's Kitchen  40.75668  -73.99097   \n",
       "28041       NaN    Manhattan    Hell's Kitchen  40.75656  -73.99063   \n",
       "28273       NaN    Manhattan    Hell's Kitchen  40.75835  -73.99065   \n",
       "30569       NaN    Manhattan       East Harlem  40.79766  -73.94824   \n",
       "32192       NaN    Manhattan   Upper West Side  40.77701  -73.97667   \n",
       "38991       NaN     Brooklyn          Flatbush  40.65152  -73.95271   \n",
       "\n",
       "             room_type  price  minimo_noites  numero_de_reviews ultima_review  \\\n",
       "359       Private room     50              1                 43    2019-07-08   \n",
       "2699   Entire home/apt    100             30                 49    2017-01-02   \n",
       "5744      Private room     86              3                 34    2019-05-23   \n",
       "6074      Private room     50              1                  0           NaN   \n",
       "6581   Entire home/apt    195              1                  1    2015-10-20   \n",
       "8162   Entire home/apt     85              2                182    2019-06-19   \n",
       "8256      Private room     37              1                  1    2015-07-01   \n",
       "8851   Entire home/apt    100              2                157    2019-06-19   \n",
       "9137   Entire home/apt    145              1                  0           NaN   \n",
       "9816      Private room     28              1                  1    2015-08-01   \n",
       "14039     Private room     55             10                  2    2016-11-05   \n",
       "14630     Private room     45              1                  5    2017-01-01   \n",
       "15173  Entire home/apt    220              4                 81    2019-07-02   \n",
       "19564  Entire home/apt     75              4                 37    2019-07-07   \n",
       "27776  Entire home/apt    325              1                  0           NaN   \n",
       "27961     Private room    120              1                 89    2019-01-01   \n",
       "28041     Private room    120              1                109    2019-01-01   \n",
       "28273     Private room    120              1                 88    2018-12-14   \n",
       "30569     Private room    139              1                  6    2018-08-12   \n",
       "32192  Entire home/apt    180              4                  0           NaN   \n",
       "38991     Private room     55              7                  0           NaN   \n",
       "\n",
       "       reviews_por_mes  calculado_host_listings_count  disponibilidade_365  \n",
       "359               0.45                              1                   88  \n",
       "2699              0.69                              1                  342  \n",
       "5744              1.00                              1                  359  \n",
       "6074               NaN                              1                    0  \n",
       "6581              0.02                              1                    0  \n",
       "8162              3.59                              2                  318  \n",
       "8256              0.02                              1                    0  \n",
       "8851              3.18                              2                  342  \n",
       "9137               NaN                              1                    0  \n",
       "9816              0.02                              1                    0  \n",
       "14039             0.05                              1                    0  \n",
       "14630             0.13                              1                    0  \n",
       "15173             2.11                              1                  217  \n",
       "19564             1.21                              1                   26  \n",
       "27776              NaN                              1                    0  \n",
       "27961             5.16                              3                    0  \n",
       "28041             5.97                              3                    0  \n",
       "28273             4.93                              3                    0  \n",
       "30569             0.46                              1                    0  \n",
       "32192              NaN                              1                    0  \n",
       "38991              NaN                              1                   69  "
      ]
     },
     "execution_count": 9,
     "metadata": {},
     "output_type": "execute_result"
    }
   ],
   "source": [
    "dados_aluguel[dados_aluguel[\"host_name\"].isna()]"
   ]
  },
  {
   "cell_type": "markdown",
   "id": "bea5d7e1",
   "metadata": {},
   "source": [
    "**O mesmo é válido para a coluna `host_name`, pois como é o nome do usuário que hospedou o anuncio as observações serão substituidas por `outros`.**"
   ]
  },
  {
   "cell_type": "code",
   "execution_count": 10,
   "id": "905770bf",
   "metadata": {},
   "outputs": [],
   "source": [
    "dados_aluguel[\"host_name\"] = dados_aluguel[\"host_name\"].fillna(value = \"Outros\")"
   ]
  },
  {
   "cell_type": "markdown",
   "id": "b13434aa",
   "metadata": {},
   "source": [
    "### Variável `ultima_review` e `reviews_por_mes`"
   ]
  },
  {
   "cell_type": "code",
   "execution_count": 11,
   "id": "d8fcbe3a",
   "metadata": {},
   "outputs": [
    {
     "data": {
      "text/html": [
       "<div>\n",
       "<style scoped>\n",
       "    .dataframe tbody tr th:only-of-type {\n",
       "        vertical-align: middle;\n",
       "    }\n",
       "\n",
       "    .dataframe tbody tr th {\n",
       "        vertical-align: top;\n",
       "    }\n",
       "\n",
       "    .dataframe thead th {\n",
       "        text-align: right;\n",
       "    }\n",
       "</style>\n",
       "<table border=\"1\" class=\"dataframe\">\n",
       "  <thead>\n",
       "    <tr style=\"text-align: right;\">\n",
       "      <th></th>\n",
       "      <th>id</th>\n",
       "      <th>nome</th>\n",
       "      <th>host_id</th>\n",
       "      <th>host_name</th>\n",
       "      <th>bairro_group</th>\n",
       "      <th>bairro</th>\n",
       "      <th>latitude</th>\n",
       "      <th>longitude</th>\n",
       "      <th>room_type</th>\n",
       "      <th>price</th>\n",
       "      <th>minimo_noites</th>\n",
       "      <th>numero_de_reviews</th>\n",
       "      <th>ultima_review</th>\n",
       "      <th>reviews_por_mes</th>\n",
       "      <th>calculado_host_listings_count</th>\n",
       "      <th>disponibilidade_365</th>\n",
       "    </tr>\n",
       "  </thead>\n",
       "  <tbody>\n",
       "    <tr>\n",
       "      <th>1</th>\n",
       "      <td>3647</td>\n",
       "      <td>THE VILLAGE OF HARLEM....NEW YORK !</td>\n",
       "      <td>4632</td>\n",
       "      <td>Elisabeth</td>\n",
       "      <td>Manhattan</td>\n",
       "      <td>Harlem</td>\n",
       "      <td>40.80902</td>\n",
       "      <td>-73.94190</td>\n",
       "      <td>Private room</td>\n",
       "      <td>150</td>\n",
       "      <td>3</td>\n",
       "      <td>0</td>\n",
       "      <td>NaN</td>\n",
       "      <td>NaN</td>\n",
       "      <td>1</td>\n",
       "      <td>365</td>\n",
       "    </tr>\n",
       "    <tr>\n",
       "      <th>18</th>\n",
       "      <td>7750</td>\n",
       "      <td>Huge 2 BR Upper East  Cental Park</td>\n",
       "      <td>17985</td>\n",
       "      <td>Sing</td>\n",
       "      <td>Manhattan</td>\n",
       "      <td>East Harlem</td>\n",
       "      <td>40.79685</td>\n",
       "      <td>-73.94872</td>\n",
       "      <td>Entire home/apt</td>\n",
       "      <td>190</td>\n",
       "      <td>7</td>\n",
       "      <td>0</td>\n",
       "      <td>NaN</td>\n",
       "      <td>NaN</td>\n",
       "      <td>2</td>\n",
       "      <td>249</td>\n",
       "    </tr>\n",
       "    <tr>\n",
       "      <th>25</th>\n",
       "      <td>8700</td>\n",
       "      <td>Magnifique Suite au N de Manhattan - vue Cloitres</td>\n",
       "      <td>26394</td>\n",
       "      <td>Claude &amp; Sophie</td>\n",
       "      <td>Manhattan</td>\n",
       "      <td>Inwood</td>\n",
       "      <td>40.86754</td>\n",
       "      <td>-73.92639</td>\n",
       "      <td>Private room</td>\n",
       "      <td>80</td>\n",
       "      <td>4</td>\n",
       "      <td>0</td>\n",
       "      <td>NaN</td>\n",
       "      <td>NaN</td>\n",
       "      <td>1</td>\n",
       "      <td>0</td>\n",
       "    </tr>\n",
       "    <tr>\n",
       "      <th>35</th>\n",
       "      <td>11452</td>\n",
       "      <td>Clean and Quiet in Brooklyn</td>\n",
       "      <td>7355</td>\n",
       "      <td>Vt</td>\n",
       "      <td>Brooklyn</td>\n",
       "      <td>Bedford-Stuyvesant</td>\n",
       "      <td>40.68876</td>\n",
       "      <td>-73.94312</td>\n",
       "      <td>Private room</td>\n",
       "      <td>35</td>\n",
       "      <td>60</td>\n",
       "      <td>0</td>\n",
       "      <td>NaN</td>\n",
       "      <td>NaN</td>\n",
       "      <td>1</td>\n",
       "      <td>365</td>\n",
       "    </tr>\n",
       "    <tr>\n",
       "      <th>37</th>\n",
       "      <td>11943</td>\n",
       "      <td>Country space in the city</td>\n",
       "      <td>45445</td>\n",
       "      <td>Harriet</td>\n",
       "      <td>Brooklyn</td>\n",
       "      <td>Flatbush</td>\n",
       "      <td>40.63702</td>\n",
       "      <td>-73.96327</td>\n",
       "      <td>Private room</td>\n",
       "      <td>150</td>\n",
       "      <td>1</td>\n",
       "      <td>0</td>\n",
       "      <td>NaN</td>\n",
       "      <td>NaN</td>\n",
       "      <td>1</td>\n",
       "      <td>365</td>\n",
       "    </tr>\n",
       "    <tr>\n",
       "      <th>...</th>\n",
       "      <td>...</td>\n",
       "      <td>...</td>\n",
       "      <td>...</td>\n",
       "      <td>...</td>\n",
       "      <td>...</td>\n",
       "      <td>...</td>\n",
       "      <td>...</td>\n",
       "      <td>...</td>\n",
       "      <td>...</td>\n",
       "      <td>...</td>\n",
       "      <td>...</td>\n",
       "      <td>...</td>\n",
       "      <td>...</td>\n",
       "      <td>...</td>\n",
       "      <td>...</td>\n",
       "      <td>...</td>\n",
       "    </tr>\n",
       "    <tr>\n",
       "      <th>48889</th>\n",
       "      <td>36484665</td>\n",
       "      <td>Charming one bedroom - newly renovated rowhouse</td>\n",
       "      <td>8232441</td>\n",
       "      <td>Sabrina</td>\n",
       "      <td>Brooklyn</td>\n",
       "      <td>Bedford-Stuyvesant</td>\n",
       "      <td>40.67853</td>\n",
       "      <td>-73.94995</td>\n",
       "      <td>Private room</td>\n",
       "      <td>70</td>\n",
       "      <td>2</td>\n",
       "      <td>0</td>\n",
       "      <td>NaN</td>\n",
       "      <td>NaN</td>\n",
       "      <td>2</td>\n",
       "      <td>9</td>\n",
       "    </tr>\n",
       "    <tr>\n",
       "      <th>48890</th>\n",
       "      <td>36485057</td>\n",
       "      <td>Affordable room in Bushwick/East Williamsburg</td>\n",
       "      <td>6570630</td>\n",
       "      <td>Marisol</td>\n",
       "      <td>Brooklyn</td>\n",
       "      <td>Bushwick</td>\n",
       "      <td>40.70184</td>\n",
       "      <td>-73.93317</td>\n",
       "      <td>Private room</td>\n",
       "      <td>40</td>\n",
       "      <td>4</td>\n",
       "      <td>0</td>\n",
       "      <td>NaN</td>\n",
       "      <td>NaN</td>\n",
       "      <td>2</td>\n",
       "      <td>36</td>\n",
       "    </tr>\n",
       "    <tr>\n",
       "      <th>48891</th>\n",
       "      <td>36485431</td>\n",
       "      <td>Sunny Studio at Historical Neighborhood</td>\n",
       "      <td>23492952</td>\n",
       "      <td>Ilgar &amp; Aysel</td>\n",
       "      <td>Manhattan</td>\n",
       "      <td>Harlem</td>\n",
       "      <td>40.81475</td>\n",
       "      <td>-73.94867</td>\n",
       "      <td>Entire home/apt</td>\n",
       "      <td>115</td>\n",
       "      <td>10</td>\n",
       "      <td>0</td>\n",
       "      <td>NaN</td>\n",
       "      <td>NaN</td>\n",
       "      <td>1</td>\n",
       "      <td>27</td>\n",
       "    </tr>\n",
       "    <tr>\n",
       "      <th>48892</th>\n",
       "      <td>36485609</td>\n",
       "      <td>43rd St. Time Square-cozy single bed</td>\n",
       "      <td>30985759</td>\n",
       "      <td>Taz</td>\n",
       "      <td>Manhattan</td>\n",
       "      <td>Hell's Kitchen</td>\n",
       "      <td>40.75751</td>\n",
       "      <td>-73.99112</td>\n",
       "      <td>Shared room</td>\n",
       "      <td>55</td>\n",
       "      <td>1</td>\n",
       "      <td>0</td>\n",
       "      <td>NaN</td>\n",
       "      <td>NaN</td>\n",
       "      <td>6</td>\n",
       "      <td>2</td>\n",
       "    </tr>\n",
       "    <tr>\n",
       "      <th>48893</th>\n",
       "      <td>36487245</td>\n",
       "      <td>Trendy duplex in the very heart of Hell's Kitchen</td>\n",
       "      <td>68119814</td>\n",
       "      <td>Christophe</td>\n",
       "      <td>Manhattan</td>\n",
       "      <td>Hell's Kitchen</td>\n",
       "      <td>40.76404</td>\n",
       "      <td>-73.98933</td>\n",
       "      <td>Private room</td>\n",
       "      <td>90</td>\n",
       "      <td>7</td>\n",
       "      <td>0</td>\n",
       "      <td>NaN</td>\n",
       "      <td>NaN</td>\n",
       "      <td>1</td>\n",
       "      <td>23</td>\n",
       "    </tr>\n",
       "  </tbody>\n",
       "</table>\n",
       "<p>10052 rows × 16 columns</p>\n",
       "</div>"
      ],
      "text/plain": [
       "             id                                               nome   host_id  \\\n",
       "1          3647                THE VILLAGE OF HARLEM....NEW YORK !      4632   \n",
       "18         7750                  Huge 2 BR Upper East  Cental Park     17985   \n",
       "25         8700  Magnifique Suite au N de Manhattan - vue Cloitres     26394   \n",
       "35        11452                        Clean and Quiet in Brooklyn      7355   \n",
       "37        11943                          Country space in the city     45445   \n",
       "...         ...                                                ...       ...   \n",
       "48889  36484665    Charming one bedroom - newly renovated rowhouse   8232441   \n",
       "48890  36485057      Affordable room in Bushwick/East Williamsburg   6570630   \n",
       "48891  36485431            Sunny Studio at Historical Neighborhood  23492952   \n",
       "48892  36485609               43rd St. Time Square-cozy single bed  30985759   \n",
       "48893  36487245  Trendy duplex in the very heart of Hell's Kitchen  68119814   \n",
       "\n",
       "             host_name bairro_group              bairro  latitude  longitude  \\\n",
       "1            Elisabeth    Manhattan              Harlem  40.80902  -73.94190   \n",
       "18                Sing    Manhattan         East Harlem  40.79685  -73.94872   \n",
       "25     Claude & Sophie    Manhattan              Inwood  40.86754  -73.92639   \n",
       "35                  Vt     Brooklyn  Bedford-Stuyvesant  40.68876  -73.94312   \n",
       "37             Harriet     Brooklyn            Flatbush  40.63702  -73.96327   \n",
       "...                ...          ...                 ...       ...        ...   \n",
       "48889          Sabrina     Brooklyn  Bedford-Stuyvesant  40.67853  -73.94995   \n",
       "48890          Marisol     Brooklyn            Bushwick  40.70184  -73.93317   \n",
       "48891    Ilgar & Aysel    Manhattan              Harlem  40.81475  -73.94867   \n",
       "48892              Taz    Manhattan      Hell's Kitchen  40.75751  -73.99112   \n",
       "48893       Christophe    Manhattan      Hell's Kitchen  40.76404  -73.98933   \n",
       "\n",
       "             room_type  price  minimo_noites  numero_de_reviews ultima_review  \\\n",
       "1         Private room    150              3                  0           NaN   \n",
       "18     Entire home/apt    190              7                  0           NaN   \n",
       "25        Private room     80              4                  0           NaN   \n",
       "35        Private room     35             60                  0           NaN   \n",
       "37        Private room    150              1                  0           NaN   \n",
       "...                ...    ...            ...                ...           ...   \n",
       "48889     Private room     70              2                  0           NaN   \n",
       "48890     Private room     40              4                  0           NaN   \n",
       "48891  Entire home/apt    115             10                  0           NaN   \n",
       "48892      Shared room     55              1                  0           NaN   \n",
       "48893     Private room     90              7                  0           NaN   \n",
       "\n",
       "       reviews_por_mes  calculado_host_listings_count  disponibilidade_365  \n",
       "1                  NaN                              1                  365  \n",
       "18                 NaN                              2                  249  \n",
       "25                 NaN                              1                    0  \n",
       "35                 NaN                              1                  365  \n",
       "37                 NaN                              1                  365  \n",
       "...                ...                            ...                  ...  \n",
       "48889              NaN                              2                    9  \n",
       "48890              NaN                              2                   36  \n",
       "48891              NaN                              1                   27  \n",
       "48892              NaN                              6                    2  \n",
       "48893              NaN                              1                   23  \n",
       "\n",
       "[10052 rows x 16 columns]"
      ]
     },
     "execution_count": 11,
     "metadata": {},
     "output_type": "execute_result"
    }
   ],
   "source": [
    "dados_aluguel[dados_aluguel[\"reviews_por_mes\"].isna()]"
   ]
  },
  {
   "cell_type": "markdown",
   "id": "e1af798a",
   "metadata": {},
   "source": [
    "**As variáveis `reviews_por_mes` e `ultima_review` possívelmente foram digitadas incorretamente na criação do dataset, ou só não foi colocado nenhum valor, isso pode ser observado pela variável `numero_de_reviews`, pois quando ambas as variáveis são nulas, a variável `numero_de_reviews` é 0, porém, isso é uma hipótese, e deve ser verificada.**"
   ]
  },
  {
   "cell_type": "markdown",
   "id": "16781285",
   "metadata": {},
   "source": [
    "**Verificando se existe algum valor `NaN` da variável `reviews_por_mes` caso a variável `numero_de_reviews` seja diferente de zero.**"
   ]
  },
  {
   "cell_type": "code",
   "execution_count": 12,
   "id": "c4184314",
   "metadata": {},
   "outputs": [
    {
     "data": {
      "text/html": [
       "<div>\n",
       "<style scoped>\n",
       "    .dataframe tbody tr th:only-of-type {\n",
       "        vertical-align: middle;\n",
       "    }\n",
       "\n",
       "    .dataframe tbody tr th {\n",
       "        vertical-align: top;\n",
       "    }\n",
       "\n",
       "    .dataframe thead th {\n",
       "        text-align: right;\n",
       "    }\n",
       "</style>\n",
       "<table border=\"1\" class=\"dataframe\">\n",
       "  <thead>\n",
       "    <tr style=\"text-align: right;\">\n",
       "      <th></th>\n",
       "      <th>id</th>\n",
       "      <th>nome</th>\n",
       "      <th>host_id</th>\n",
       "      <th>host_name</th>\n",
       "      <th>bairro_group</th>\n",
       "      <th>bairro</th>\n",
       "      <th>latitude</th>\n",
       "      <th>longitude</th>\n",
       "      <th>room_type</th>\n",
       "      <th>price</th>\n",
       "      <th>minimo_noites</th>\n",
       "      <th>numero_de_reviews</th>\n",
       "      <th>ultima_review</th>\n",
       "      <th>reviews_por_mes</th>\n",
       "      <th>calculado_host_listings_count</th>\n",
       "      <th>disponibilidade_365</th>\n",
       "    </tr>\n",
       "  </thead>\n",
       "  <tbody>\n",
       "  </tbody>\n",
       "</table>\n",
       "</div>"
      ],
      "text/plain": [
       "Empty DataFrame\n",
       "Columns: [id, nome, host_id, host_name, bairro_group, bairro, latitude, longitude, room_type, price, minimo_noites, numero_de_reviews, ultima_review, reviews_por_mes, calculado_host_listings_count, disponibilidade_365]\n",
       "Index: []"
      ]
     },
     "execution_count": 12,
     "metadata": {},
     "output_type": "execute_result"
    }
   ],
   "source": [
    "dados_aluguel[(dados_aluguel[\"reviews_por_mes\"].isna()) & (dados_aluguel[\"numero_de_reviews\"] != 0)]"
   ]
  },
  {
   "cell_type": "markdown",
   "id": "792af026",
   "metadata": {},
   "source": [
    "**Como foi confirmado acima, ambas as variáveis devem ter seus valores nulos substituidos por zero**"
   ]
  },
  {
   "cell_type": "code",
   "execution_count": 13,
   "id": "89823a2b",
   "metadata": {},
   "outputs": [],
   "source": [
    "dados_aluguel[\"reviews_por_mes\"] = dados_aluguel[\"reviews_por_mes\"].fillna(value = 0)\n",
    "dados_aluguel[\"ultima_review\"] = dados_aluguel[\"ultima_review\"].fillna(value = 0)"
   ]
  },
  {
   "cell_type": "markdown",
   "id": "2704c7aa",
   "metadata": {},
   "source": [
    "**Verificando agora se ainda possuem valores nulos**"
   ]
  },
  {
   "cell_type": "code",
   "execution_count": 14,
   "id": "f0685563",
   "metadata": {},
   "outputs": [
    {
     "data": {
      "text/plain": [
       "id                               0\n",
       "nome                             0\n",
       "host_id                          0\n",
       "host_name                        0\n",
       "bairro_group                     0\n",
       "bairro                           0\n",
       "latitude                         0\n",
       "longitude                        0\n",
       "room_type                        0\n",
       "price                            0\n",
       "minimo_noites                    0\n",
       "numero_de_reviews                0\n",
       "ultima_review                    0\n",
       "reviews_por_mes                  0\n",
       "calculado_host_listings_count    0\n",
       "disponibilidade_365              0\n",
       "dtype: int64"
      ]
     },
     "execution_count": 14,
     "metadata": {},
     "output_type": "execute_result"
    }
   ],
   "source": [
    "dados_aluguel.isna().sum()"
   ]
  },
  {
   "cell_type": "markdown",
   "id": "5b864657",
   "metadata": {},
   "source": [
    "**Como todos os valores nulos do dataset foram removidos, deve-se verificar agora o comportamento de cada variável. As variáveis `id`, `nome`, `host_id` e `host_name` não poderão ser analisadas devido ao tipo de dado que representam. Como todas são observações únicas, sem seguir um padrão, não devem ser utilizadas por sua falta de relevância estatística e, em alguns casos, por questões de ética profissional.**"
   ]
  },
  {
   "cell_type": "markdown",
   "id": "11484208",
   "metadata": {},
   "source": [
    "### Variável `bairro`"
   ]
  },
  {
   "cell_type": "code",
   "execution_count": 15,
   "id": "27386980",
   "metadata": {},
   "outputs": [
    {
     "data": {
      "text/plain": [
       "array(['Midtown', 'Harlem', 'Clinton Hill', 'East Harlem', 'Murray Hill',\n",
       "       'Bedford-Stuyvesant', \"Hell's Kitchen\", 'Upper West Side',\n",
       "       'Chinatown', 'South Slope', 'West Village', 'Williamsburg',\n",
       "       'Fort Greene', 'Chelsea', 'Crown Heights', 'Park Slope',\n",
       "       'Windsor Terrace', 'Inwood', 'East Village', 'Greenpoint',\n",
       "       'Bushwick', 'Flatbush', 'Lower East Side',\n",
       "       'Prospect-Lefferts Gardens', 'Long Island City', 'Kips Bay',\n",
       "       'SoHo', 'Upper East Side', 'Prospect Heights',\n",
       "       'Washington Heights', 'Woodside', 'Brooklyn Heights',\n",
       "       'Carroll Gardens', 'Gowanus', 'Flatlands', 'Cobble Hill',\n",
       "       'Flushing', 'Boerum Hill', 'Sunnyside', 'DUMBO', 'St. George',\n",
       "       'Highbridge', 'Financial District', 'Ridgewood',\n",
       "       'Morningside Heights', 'Jamaica', 'Middle Village', 'NoHo',\n",
       "       'Ditmars Steinway', 'Flatiron District', 'Roosevelt Island',\n",
       "       'Greenwich Village', 'Little Italy', 'East Flatbush',\n",
       "       'Tompkinsville', 'Astoria', 'Kensington', 'Clason Point',\n",
       "       'Eastchester', 'Kingsbridge', 'Two Bridges', 'Queens Village',\n",
       "       'Rockaway Beach', 'Forest Hills', 'Nolita', 'Woodlawn',\n",
       "       'University Heights', 'Gravesend', 'Gramercy', 'Allerton',\n",
       "       'East New York', 'Theater District', 'Concourse Village',\n",
       "       'Sheepshead Bay', 'Emerson Hill', 'Fort Hamilton', 'Bensonhurst',\n",
       "       'Tribeca', 'Shore Acres', 'Sunset Park', 'Concourse', 'Elmhurst',\n",
       "       'Brighton Beach', 'Jackson Heights', 'Cypress Hills', 'St. Albans',\n",
       "       'Arrochar', 'Rego Park', 'Wakefield', 'Clifton', 'Bay Ridge',\n",
       "       'Graniteville', 'Spuyten Duyvil', 'Stapleton', 'Briarwood',\n",
       "       'Ozone Park', 'Columbia St', 'Vinegar Hill', 'Mott Haven',\n",
       "       'Longwood', 'Canarsie', 'Battery Park City', 'Civic Center',\n",
       "       'East Elmhurst', 'New Springville', 'Morris Heights', 'Arverne',\n",
       "       'Cambria Heights', 'Tottenville', 'Mariners Harbor', 'Concord',\n",
       "       'Borough Park', 'Bayside', 'Downtown Brooklyn', 'Port Morris',\n",
       "       'Fieldston', 'Kew Gardens', 'Midwood', 'College Point',\n",
       "       'Mount Eden', 'City Island', 'Glendale', 'Port Richmond',\n",
       "       'Red Hook', 'Richmond Hill', 'Bellerose', 'Maspeth',\n",
       "       'Williamsbridge', 'Soundview', 'Woodhaven', 'Woodrow',\n",
       "       'Co-op City', 'Stuyvesant Town', 'Parkchester', 'North Riverdale',\n",
       "       'Dyker Heights', 'Bronxdale', 'Sea Gate', 'Riverdale',\n",
       "       'Kew Gardens Hills', 'Bay Terrace', 'Norwood', 'Claremont Village',\n",
       "       'Whitestone', 'Fordham', 'Bayswater', 'Navy Yard', 'Brownsville',\n",
       "       'Eltingville', 'Fresh Meadows', 'Mount Hope', 'Lighthouse Hill',\n",
       "       'Springfield Gardens', 'Howard Beach', 'Belle Harbor',\n",
       "       'Jamaica Estates', 'Van Nest', 'Morris Park', 'West Brighton',\n",
       "       'Far Rockaway', 'South Ozone Park', 'Tremont', 'Corona',\n",
       "       'Great Kills', 'Manhattan Beach', 'Marble Hill', 'Dongan Hills',\n",
       "       'Castleton Corners', 'East Morrisania', 'Hunts Point', 'Neponsit',\n",
       "       'Pelham Bay', 'Randall Manor', 'Throgs Neck', 'Todt Hill',\n",
       "       'West Farms', 'Silver Lake', 'Morrisania', 'Laurelton',\n",
       "       'Grymes Hill', 'Holliswood', 'Pelham Gardens', 'Belmont',\n",
       "       'Rosedale', 'Edgemere', 'New Brighton', 'Midland Beach',\n",
       "       'Baychester', 'Melrose', 'Bergen Beach', 'Richmondtown',\n",
       "       'Howland Hook', 'Schuylerville', 'Coney Island', 'New Dorp Beach',\n",
       "       \"Prince's Bay\", 'South Beach', 'Bath Beach', 'Jamaica Hills',\n",
       "       'Oakwood', 'Castle Hill', 'Hollis', 'Douglaston', 'Huguenot',\n",
       "       'Olinville', 'Edenwald', 'Grant City', 'Westerleigh',\n",
       "       'Bay Terrace, Staten Island', 'Westchester Square', 'Little Neck',\n",
       "       'Fort Wadsworth', 'Rosebank', 'Unionport', 'Mill Basin',\n",
       "       'Arden Heights', \"Bull's Head\", 'New Dorp', 'Rossville',\n",
       "       'Breezy Point', 'Willowbrook'], dtype=object)"
      ]
     },
     "execution_count": 15,
     "metadata": {},
     "output_type": "execute_result"
    }
   ],
   "source": [
    "dados_aluguel[\"bairro\"].unique()"
   ]
  },
  {
   "cell_type": "code",
   "execution_count": 16,
   "id": "22abf96f",
   "metadata": {},
   "outputs": [
    {
     "data": {
      "text/plain": [
       "221"
      ]
     },
     "execution_count": 16,
     "metadata": {},
     "output_type": "execute_result"
    }
   ],
   "source": [
    "len(dados_aluguel[\"bairro\"].unique())"
   ]
  },
  {
   "cell_type": "markdown",
   "id": "0a0bfa9a",
   "metadata": {},
   "source": [
    "**Como a variável `bairro` possui 221 níveis, não é recomendado a utilização dela para inferir algo, pois existe a possibilidade de gerar o problema de esparsidade e viesar o modelo final, então, o ideal é a utilização da variável `bairro_group` que é onde realmente é o bairro do apartamento.**"
   ]
  },
  {
   "cell_type": "code",
   "execution_count": 17,
   "id": "a2914fa8",
   "metadata": {},
   "outputs": [
    {
     "data": {
      "text/plain": [
       "array(['Manhattan', 'Brooklyn', 'Queens', 'Staten Island', 'Bronx'],\n",
       "      dtype=object)"
      ]
     },
     "execution_count": 17,
     "metadata": {},
     "output_type": "execute_result"
    }
   ],
   "source": [
    "dados_aluguel[\"bairro_group\"].unique()"
   ]
  },
  {
   "cell_type": "markdown",
   "id": "b5a1fdae",
   "metadata": {},
   "source": [
    "**Essa variável possui 5 níveis, sendo melhor de visualizar o comportamento do banco de dados**"
   ]
  },
  {
   "cell_type": "code",
   "execution_count": 18,
   "id": "66f83bef",
   "metadata": {},
   "outputs": [
    {
     "data": {
      "text/plain": [
       "bairro_group\n",
       "Manhattan        21661\n",
       "Brooklyn         20103\n",
       "Queens            5666\n",
       "Bronx             1091\n",
       "Staten Island      373\n",
       "Name: count, dtype: int64"
      ]
     },
     "execution_count": 18,
     "metadata": {},
     "output_type": "execute_result"
    }
   ],
   "source": [
    "dados_aluguel[\"bairro_group\"].value_counts()"
   ]
  },
  {
   "cell_type": "code",
   "execution_count": 19,
   "id": "34a8471f",
   "metadata": {},
   "outputs": [
    {
     "data": {
      "text/plain": [
       "Text(0.5, 1.0, 'Distribuição dos bairros')"
      ]
     },
     "execution_count": 19,
     "metadata": {},
     "output_type": "execute_result"
    },
    {
     "data": {
      "image/png": "[encoded data removed]",
      "text/plain": [
       "<Figure size 640x480 with 1 Axes>"
      ]
     },
     "metadata": {},
     "output_type": "display_data"
    }
   ],
   "source": [
    "sns.countplot(data = dados_aluguel, x = \"bairro_group\")\n",
    "plt.xlabel(\"Bairros\")\n",
    "plt.ylabel(\"Contagem\")\n",
    "plt.title(\"Distribuição dos bairros\")"
   ]
  },
  {
   "cell_type": "markdown",
   "id": "22bfd7df",
   "metadata": {},
   "source": [
    "**É possível identificar que os bairros Manhattan e Brooklyn são os que possuem uma maior quantidade de apartamentos disponíveis para alugar.**"
   ]
  },
  {
   "cell_type": "markdown",
   "id": "e09f3775",
   "metadata": {},
   "source": [
    "### Variável `room_type`"
   ]
  },
  {
   "cell_type": "code",
   "execution_count": 20,
   "id": "ef0291eb",
   "metadata": {},
   "outputs": [
    {
     "data": {
      "text/plain": [
       "room_type\n",
       "Entire home/apt    25409\n",
       "Private room       22325\n",
       "Shared room         1160\n",
       "Name: count, dtype: int64"
      ]
     },
     "execution_count": 20,
     "metadata": {},
     "output_type": "execute_result"
    }
   ],
   "source": [
    "dados_aluguel[\"room_type\"].value_counts()"
   ]
  },
  {
   "cell_type": "code",
   "execution_count": 75,
   "id": "dd44bffe",
   "metadata": {},
   "outputs": [
    {
     "data": {
      "text/plain": [
       "Text(0.5, 1.0, 'Distribuição dos tipos dos quartos')"
      ]
     },
     "execution_count": 75,
     "metadata": {},
     "output_type": "execute_result"
    },
    {
     "data": {
      "image/png": "[encoded data removed]",
      "text/plain": [
       "<Figure size 640x480 with 1 Axes>"
      ]
     },
     "metadata": {},
     "output_type": "display_data"
    }
   ],
   "source": [
    "sns.countplot(data = dados_aluguel, x = \"room_type\")\n",
    "plt.xlabel(\"Tipo do espaço\")\n",
    "plt.ylabel(\"Contagem\")\n",
    "plt.title(\"Distribuição dos tipos dos quartos\")"
   ]
  },
  {
   "cell_type": "markdown",
   "id": "cc740a9b",
   "metadata": {},
   "source": [
    "**O tipo do espaço normalmente está anunciado como casa/apartamento completo e quarto privado, apenas algumas observações estão categorizadas como quarto compartilhado.**"
   ]
  },
  {
   "cell_type": "markdown",
   "id": "c749bd38",
   "metadata": {},
   "source": [
    "## Variável `latitude` e `longitude`"
   ]
  },
  {
   "cell_type": "code",
   "execution_count": 22,
   "id": "2adb7ff7",
   "metadata": {
    "scrolled": false
   },
   "outputs": [
    {
     "data": {
      "text/plain": [
       "<function matplotlib.pyplot.show(close=None, block=None)>"
      ]
     },
     "execution_count": 22,
     "metadata": {},
     "output_type": "execute_result"
    },
    {
     "data": {
      "image/png": "[encoded data removed]",
      "text/plain": [
       "<Figure size 1200x600 with 2 Axes>"
      ]
     },
     "metadata": {},
     "output_type": "display_data"
    }
   ],
   "source": [
    "plt.figure(figsize=(12, 6))\n",
    "plt.subplot(1,2,1)\n",
    "sns.histplot(dados_aluguel[\"latitude\"])\n",
    "plt.xlabel(\"Latitude\")\n",
    "plt.subplot(1,2,2)\n",
    "sns.histplot(dados_aluguel[\"longitude\"])\n",
    "plt.xlabel(\"Longitude\")\n",
    "plt.show"
   ]
  },
  {
   "cell_type": "markdown",
   "id": "23134ec9",
   "metadata": {},
   "source": [
    "**Como ambas as variáveis apresentam um comportamento de uma distribuição normal, pode-se afirmar que a maior parte dos dados estão concentrados em uma única localidade/cidade ou em localidades próximas.**"
   ]
  },
  {
   "cell_type": "markdown",
   "id": "a65ae0d1",
   "metadata": {},
   "source": [
    "### Variável `price`"
   ]
  },
  {
   "cell_type": "markdown",
   "id": "038e53b2",
   "metadata": {},
   "source": [
    "**Essa variável, como trata-se do preço dos espaços, existir um 0 nessa variável pode indicar um possível erro, pois, não faz sentido alugar um espaço por 0 dólares, então isso deve ser verificado.**"
   ]
  },
  {
   "cell_type": "code",
   "execution_count": 23,
   "id": "0e246bd5",
   "metadata": {},
   "outputs": [
    {
     "data": {
      "text/plain": [
       "(11, 16)"
      ]
     },
     "execution_count": 23,
     "metadata": {},
     "output_type": "execute_result"
    }
   ],
   "source": [
    "dados_aluguel[dados_aluguel[\"price\"] == 0].shape"
   ]
  },
  {
   "cell_type": "markdown",
   "id": "1b225b6d",
   "metadata": {},
   "source": [
    "**O dataset possui 11 observações com preço de 0 dólares, sugerindo um possível erro de digitação do anfitrião na hora de disponibilizar o preço, nesse caso, para essas observações, o ideal é que sejam removidas do dataset ou inferido algum valor, seja a média ou mediana dos espaços ou a utilização de algumas técnicas estatísticas para a o cálculo do seu preço, no caso dessa análise, foi escolhido a remoção dessas observações, pois como são poucas a remoção delas não traria nenhum viés ao modelo final.**"
   ]
  },
  {
   "cell_type": "code",
   "execution_count": 24,
   "id": "7e0af363",
   "metadata": {},
   "outputs": [],
   "source": [
    "dados_aluguel = dados_aluguel[dados_aluguel[\"price\"] != 0]"
   ]
  },
  {
   "cell_type": "code",
   "execution_count": 25,
   "id": "58344e25",
   "metadata": {},
   "outputs": [
    {
     "data": {
      "text/plain": [
       "Text(0.5, 0, 'Preço')"
      ]
     },
     "execution_count": 25,
     "metadata": {},
     "output_type": "execute_result"
    },
    {
     "data": {
      "image/png": "[encoded data removed]",
      "text/plain": [
       "<Figure size 640x480 with 1 Axes>"
      ]
     },
     "metadata": {},
     "output_type": "display_data"
    }
   ],
   "source": [
    "sns.histplot(dados_aluguel[\"price\"])\n",
    "plt.xlabel(\"Preço\")"
   ]
  },
  {
   "cell_type": "markdown",
   "id": "dbf9892f",
   "metadata": {},
   "source": [
    "**Os preços dos espaços indica que muitos espaços possuem um preço baixo, enquanto poucos possuem preços elevados.**"
   ]
  },
  {
   "cell_type": "markdown",
   "id": "84178a4b",
   "metadata": {},
   "source": [
    "### Variável `minimo_noites`"
   ]
  },
  {
   "cell_type": "code",
   "execution_count": 26,
   "id": "99d4daa1",
   "metadata": {},
   "outputs": [
    {
     "data": {
      "text/plain": [
       "<Axes: xlabel='minimo_noites', ylabel='Count'>"
      ]
     },
     "execution_count": 26,
     "metadata": {},
     "output_type": "execute_result"
    },
    {
     "data": {
      "image/png": "[encoded data removed]",
      "text/plain": [
       "<Figure size 640x480 with 1 Axes>"
      ]
     },
     "metadata": {},
     "output_type": "display_data"
    }
   ],
   "source": [
    "sns.histplot(dados_aluguel[\"minimo_noites\"])"
   ]
  },
  {
   "cell_type": "markdown",
   "id": "4fb74eac",
   "metadata": {},
   "source": [
    "**Graficamente é possível observar um certo comportamento estranho com essa variável, em que aparenta ter uma concentração elevada em valores mais baixos e poucos valores mais altos, isso deve ser verificado.** "
   ]
  },
  {
   "cell_type": "code",
   "execution_count": 27,
   "id": "0651c720",
   "metadata": {},
   "outputs": [
    {
     "data": {
      "text/plain": [
       "count    48883.000000\n",
       "mean         7.030010\n",
       "std         20.512416\n",
       "min          1.000000\n",
       "25%          1.000000\n",
       "50%          3.000000\n",
       "75%          5.000000\n",
       "max       1250.000000\n",
       "Name: minimo_noites, dtype: float64"
      ]
     },
     "execution_count": 27,
     "metadata": {},
     "output_type": "execute_result"
    }
   ],
   "source": [
    "dados_aluguel[\"minimo_noites\"].describe()"
   ]
  },
  {
   "cell_type": "code",
   "execution_count": 28,
   "id": "c58b6db3",
   "metadata": {},
   "outputs": [
    {
     "data": {
      "text/plain": [
       "(0, 16)"
      ]
     },
     "execution_count": 28,
     "metadata": {},
     "output_type": "execute_result"
    }
   ],
   "source": [
    "dados_aluguel[dados_aluguel[\"minimo_noites\"] == 0].shape"
   ]
  },
  {
   "cell_type": "markdown",
   "id": "0266c3e5",
   "metadata": {},
   "source": [
    "**Não possui valores zeros**"
   ]
  },
  {
   "cell_type": "markdown",
   "id": "6cdeeee5",
   "metadata": {},
   "source": [
    "**Se considerarmos o valor máximo que alguém poderia colocar como mínimo de noites para uma reserva como sendo 366 dias (um ano), o banco de dados apresenta algumas observações com valores superiores a esse limite. O ideal e correto, nesse cenário, é entrar em contato com o setor de negócios que forneceu esse dataset para verificar se esses dados realmente estão corretos ou não. No meu caso, opto por remover essas observações, pois são poucas, e utilizarei apenas as que estão abaixo de 366 dias.**"
   ]
  },
  {
   "cell_type": "code",
   "execution_count": 29,
   "id": "1d6fc1ef",
   "metadata": {},
   "outputs": [],
   "source": [
    "dados_aluguel = dados_aluguel[dados_aluguel[\"minimo_noites\"] <= 366]"
   ]
  },
  {
   "cell_type": "markdown",
   "id": "47cf709a",
   "metadata": {},
   "source": [
    "**Criando novamente o histograma**"
   ]
  },
  {
   "cell_type": "code",
   "execution_count": 30,
   "id": "4f38ab0b",
   "metadata": {},
   "outputs": [
    {
     "data": {
      "text/plain": [
       "<Axes: xlabel='minimo_noites', ylabel='Count'>"
      ]
     },
     "execution_count": 30,
     "metadata": {},
     "output_type": "execute_result"
    },
    {
     "data": {
      "image/png": "[encoded data removed]",
      "text/plain": [
       "<Figure size 640x480 with 1 Axes>"
      ]
     },
     "metadata": {},
     "output_type": "display_data"
    }
   ],
   "source": [
    "sns.histplot(dados_aluguel[\"minimo_noites\"])"
   ]
  },
  {
   "cell_type": "markdown",
   "id": "58912186",
   "metadata": {},
   "source": [
    "### Variável `numero_de_reviews`"
   ]
  },
  {
   "cell_type": "code",
   "execution_count": 31,
   "id": "9a83cda6",
   "metadata": {},
   "outputs": [
    {
     "data": {
      "text/plain": [
       "<Axes: xlabel='numero_de_reviews', ylabel='Count'>"
      ]
     },
     "execution_count": 31,
     "metadata": {},
     "output_type": "execute_result"
    },
    {
     "data": {
      "image/png": "[encoded data removed]",
      "text/plain": [
       "<Figure size 640x480 with 1 Axes>"
      ]
     },
     "metadata": {},
     "output_type": "display_data"
    }
   ],
   "source": [
    "sns.histplot(dados_aluguel[\"numero_de_reviews\"])"
   ]
  },
  {
   "cell_type": "markdown",
   "id": "97e5f9f9",
   "metadata": {},
   "source": [
    "**A variável não aparenta possuir nenhum problema, então, permanecerá da forma que está.**"
   ]
  },
  {
   "cell_type": "markdown",
   "id": "22dea77a",
   "metadata": {},
   "source": [
    "### Variável `ultima_review`"
   ]
  },
  {
   "cell_type": "code",
   "execution_count": 32,
   "id": "91296706",
   "metadata": {},
   "outputs": [
    {
     "data": {
      "text/plain": [
       "<Axes: xlabel='month'>"
      ]
     },
     "execution_count": 32,
     "metadata": {},
     "output_type": "execute_result"
    },
    {
     "data": {
      "image/png": "[encoded data removed]",
      "text/plain": [
       "<Figure size 1000x600 with 1 Axes>"
      ]
     },
     "metadata": {},
     "output_type": "display_data"
    }
   ],
   "source": [
    "dados_filtrados = dados_aluguel.copy()\n",
    "dados_filtrados = dados_aluguel[dados_aluguel[\"ultima_review\"]!= 0]\n",
    "dados_filtrados[\"ultima_review\"] = pd.to_datetime(dados_filtrados[\"ultima_review\"])\n",
    "dados_filtrados['month'] = dados_filtrados['ultima_review'].dt.to_period('M')\n",
    "\n",
    "plt.figure(figsize=(10,6))\n",
    "dados_filtrados['month'].value_counts().sort_index().plot(kind='line')\n"
   ]
  },
  {
   "cell_type": "markdown",
   "id": "c773c911",
   "metadata": {},
   "source": [
    "**Através dessa variável é possível verificar que as reviews foram feitas durante o periodo de 2012 a 2019 com seu pico máximo de reviews por ano no ano de 2019.**"
   ]
  },
  {
   "cell_type": "markdown",
   "id": "4cc79b83",
   "metadata": {},
   "source": [
    "### Variável `calculado_host_listings_count`"
   ]
  },
  {
   "cell_type": "code",
   "execution_count": 33,
   "id": "903603ed",
   "metadata": {},
   "outputs": [
    {
     "data": {
      "text/plain": [
       "<Axes: xlabel='calculado_host_listings_count', ylabel='Count'>"
      ]
     },
     "execution_count": 33,
     "metadata": {},
     "output_type": "execute_result"
    },
    {
     "data": {
      "image/png": "[encoded data removed]",
      "text/plain": [
       "<Figure size 640x480 with 1 Axes>"
      ]
     },
     "metadata": {},
     "output_type": "display_data"
    }
   ],
   "source": [
    "sns.histplot(dados_aluguel[\"calculado_host_listings_count\"])"
   ]
  },
  {
   "cell_type": "markdown",
   "id": "79465cde",
   "metadata": {},
   "source": [
    "**Observando o comportamento dessa variável, ela aparenta um certo comportamento diferente, e deve ser verificado**"
   ]
  },
  {
   "cell_type": "code",
   "execution_count": 34,
   "id": "1b1220f3",
   "metadata": {},
   "outputs": [
    {
     "data": {
      "text/plain": [
       "count    48870.000000\n",
       "mean         7.146184\n",
       "std         32.960764\n",
       "min          1.000000\n",
       "25%          1.000000\n",
       "50%          1.000000\n",
       "75%          2.000000\n",
       "max        327.000000\n",
       "Name: calculado_host_listings_count, dtype: float64"
      ]
     },
     "execution_count": 34,
     "metadata": {},
     "output_type": "execute_result"
    }
   ],
   "source": [
    "dados_aluguel[\"calculado_host_listings_count\"].describe()"
   ]
  },
  {
   "cell_type": "code",
   "execution_count": 35,
   "id": "f1f47adf",
   "metadata": {
    "scrolled": true
   },
   "outputs": [
    {
     "data": {
      "text/plain": [
       "array([  2,   1,   4,   3,   6,   5,   7,  13,  28,  11,   8,   9,  52,\n",
       "        18,  15,  19,  10,  39,  26,  29,  12,  21,  96,  14,  34,  43,\n",
       "       121,  37,  49,  31,  91,  16,  87,  33,  23,  50,  20,  25, 232,\n",
       "        17,  47, 103,  65,  30,  27, 327,  32], dtype=int64)"
      ]
     },
     "execution_count": 35,
     "metadata": {},
     "output_type": "execute_result"
    }
   ],
   "source": [
    "dados_aluguel[\"calculado_host_listings_count\"].unique()"
   ]
  },
  {
   "cell_type": "code",
   "execution_count": 36,
   "id": "e060ac31",
   "metadata": {},
   "outputs": [
    {
     "data": {
      "text/plain": [
       "(559, 16)"
      ]
     },
     "execution_count": 36,
     "metadata": {},
     "output_type": "execute_result"
    }
   ],
   "source": [
    "dados_aluguel[dados_aluguel[\"calculado_host_listings_count\"]>=200].shape"
   ]
  },
  {
   "cell_type": "markdown",
   "id": "76d02a3a",
   "metadata": {},
   "source": [
    "**Cerca de 75% da base está entre valores 1 e 2, porém, apesar desses valores estranhos, os valores estão condizentes com a realidade, pois é possível que um host tenha diversos anuncios no aplicativo, então, essa variável permanecerá da forma que está.**"
   ]
  },
  {
   "cell_type": "markdown",
   "id": "94b92d7d",
   "metadata": {},
   "source": [
    "### Variável `disponibilidade_365`"
   ]
  },
  {
   "cell_type": "code",
   "execution_count": 37,
   "id": "e396c156",
   "metadata": {},
   "outputs": [
    {
     "data": {
      "text/plain": [
       "<Axes: xlabel='disponibilidade_365', ylabel='Count'>"
      ]
     },
     "execution_count": 37,
     "metadata": {},
     "output_type": "execute_result"
    },
    {
     "data": {
      "image/png": "[encoded data removed]",
      "text/plain": [
       "<Figure size 640x480 with 1 Axes>"
      ]
     },
     "metadata": {},
     "output_type": "display_data"
    }
   ],
   "source": [
    "sns.histplot(dados_aluguel[\"disponibilidade_365\"])"
   ]
  },
  {
   "cell_type": "markdown",
   "id": "1cc4dccc",
   "metadata": {},
   "source": [
    "**Essa variável não apresenta nenhuma discrepância em seu valor e apresenta uma grande quantidade de valores zeros porém com uma distribuição que faz sentido para o dataset.**"
   ]
  },
  {
   "cell_type": "markdown",
   "id": "a7ba14d4",
   "metadata": {},
   "source": [
    "------"
   ]
  },
  {
   "cell_type": "markdown",
   "id": "c6468f99",
   "metadata": {},
   "source": [
    "**Agora, com a base tratada e verificada, podemos levantar algumas hipóteses.**\n",
    "\n",
    "### Será que bairros mais populares possuem preços mais altos?"
   ]
  },
  {
   "cell_type": "code",
   "execution_count": 38,
   "id": "8e3c55a8",
   "metadata": {},
   "outputs": [
    {
     "data": {
      "text/html": [
       "<div>\n",
       "<style scoped>\n",
       "    .dataframe tbody tr th:only-of-type {\n",
       "        vertical-align: middle;\n",
       "    }\n",
       "\n",
       "    .dataframe tbody tr th {\n",
       "        vertical-align: top;\n",
       "    }\n",
       "\n",
       "    .dataframe thead th {\n",
       "        text-align: right;\n",
       "    }\n",
       "</style>\n",
       "<table border=\"1\" class=\"dataframe\">\n",
       "  <thead>\n",
       "    <tr style=\"text-align: right;\">\n",
       "      <th></th>\n",
       "      <th>media_preco</th>\n",
       "      <th>qtd_reviews</th>\n",
       "    </tr>\n",
       "    <tr>\n",
       "      <th>bairro_group</th>\n",
       "      <th></th>\n",
       "      <th></th>\n",
       "    </tr>\n",
       "  </thead>\n",
       "  <tbody>\n",
       "    <tr>\n",
       "      <th>Bronx</th>\n",
       "      <td>87.577064</td>\n",
       "      <td>28316</td>\n",
       "    </tr>\n",
       "    <tr>\n",
       "      <th>Brooklyn</th>\n",
       "      <td>124.451016</td>\n",
       "      <td>486203</td>\n",
       "    </tr>\n",
       "    <tr>\n",
       "      <th>Manhattan</th>\n",
       "      <td>196.890464</td>\n",
       "      <td>454565</td>\n",
       "    </tr>\n",
       "    <tr>\n",
       "      <th>Queens</th>\n",
       "      <td>99.493997</td>\n",
       "      <td>156920</td>\n",
       "    </tr>\n",
       "    <tr>\n",
       "      <th>Staten Island</th>\n",
       "      <td>114.812332</td>\n",
       "      <td>11541</td>\n",
       "    </tr>\n",
       "  </tbody>\n",
       "</table>\n",
       "</div>"
      ],
      "text/plain": [
       "               media_preco  qtd_reviews\n",
       "bairro_group                           \n",
       "Bronx            87.577064        28316\n",
       "Brooklyn        124.451016       486203\n",
       "Manhattan       196.890464       454565\n",
       "Queens           99.493997       156920\n",
       "Staten Island   114.812332        11541"
      ]
     },
     "execution_count": 38,
     "metadata": {},
     "output_type": "execute_result"
    }
   ],
   "source": [
    "dados_aluguel.groupby(\"bairro_group\").agg(media_preco=(\"price\", \"mean\"), qtd_reviews=(\"numero_de_reviews\", \"sum\"))"
   ]
  },
  {
   "cell_type": "markdown",
   "id": "33e1bcb8",
   "metadata": {},
   "source": [
    "**De acordo com os dados, a quantidade de reviews pode sim estar correlacionada com os o preço médio dos aluguéis, e de acordo com a internet, o bairro de Manhattan é considerado o mais nobre dentre os 5, seguido pelo Brooklyn e Queens, já os bairros Staten Island e Bronx são considerados os que possuem os preços mais acessíveis, condizendo assim com as informações do banco de dados.**"
   ]
  },
  {
   "cell_type": "markdown",
   "id": "0d09a74a",
   "metadata": {},
   "source": [
    "### Qual o impacto do tipo do quarto no preço dos aluguéis?"
   ]
  },
  {
   "cell_type": "code",
   "execution_count": 39,
   "id": "5d4adef8",
   "metadata": {},
   "outputs": [
    {
     "data": {
      "text/plain": [
       "room_type\n",
       "Entire home/apt    211.824796\n",
       "Private room        89.812539\n",
       "Shared room         70.214347\n",
       "Name: price, dtype: float64"
      ]
     },
     "execution_count": 39,
     "metadata": {},
     "output_type": "execute_result"
    }
   ],
   "source": [
    "dados_aluguel.groupby(\"room_type\")[\"price\"].mean()"
   ]
  },
  {
   "cell_type": "markdown",
   "id": "0616e499",
   "metadata": {},
   "source": [
    "**Pode-se verificar que quando é um quarto compartilhado, o preço tende a ser mais barato que um quarto privado, e quando é uma casa/apartamento completo o preço chega a triplicar, se comparado com o quarto compartilhado.**"
   ]
  },
  {
   "cell_type": "markdown",
   "id": "6611e596",
   "metadata": {},
   "source": [
    "### Quanto mais disponíbilidade tem, maior é a quantidade de avaliações? Quanto menor a disponibilidade, maior o preço?"
   ]
  },
  {
   "cell_type": "markdown",
   "id": "05c5e645",
   "metadata": {},
   "source": [
    "**Essas duas perguntas podem ser respondidas de algumas maneiras, utilizarei a correlação e também um gráfico de dispersão para cada.**"
   ]
  },
  {
   "cell_type": "code",
   "execution_count": 40,
   "id": "11848dab",
   "metadata": {},
   "outputs": [
    {
     "data": {
      "image/png": "[encoded data removed]",
      "text/plain": [
       "<Figure size 1200x600 with 2 Axes>"
      ]
     },
     "metadata": {},
     "output_type": "display_data"
    }
   ],
   "source": [
    "plt.figure(figsize=(12, 6))\n",
    "plt.subplot(1,2,1)\n",
    "sns.scatterplot(x = \"disponibilidade_365\", y = \"numero_de_reviews\", data = dados_aluguel)\n",
    "plt.title(\"Scatterplot\")\n",
    "plt.xlabel(\"Disponibilidade em dias\")\n",
    "plt.ylabel(\"Quantidade de reviews\")\n",
    "plt.grid(True)\n",
    "\n",
    "plt.subplot(1,2,2)\n",
    "sns.scatterplot(x = \"disponibilidade_365\", y = \"price\", data = dados_aluguel)\n",
    "plt.title(\"Scatterplot\")\n",
    "plt.xlabel(\"Disponibilidade em dias\")\n",
    "plt.ylabel(\"Preço\")\n",
    "plt.grid(True)\n",
    "\n",
    "plt.show()"
   ]
  },
  {
   "cell_type": "markdown",
   "id": "15dd8d48",
   "metadata": {},
   "source": [
    "**Pelo gráfico de dispersão não é possível identificar muita coisa, porém, se for analisar com mais afinco é possível identificar uma certa quantidade crescente na quantidade de reviews quanto maior a disponibilidade de dias.**\n",
    "\n",
    "**Já para o preço não é possível identificar nenhuma relação entre as variáveis, visto que a dispersão dos dados aparenta estar bastante aleatória.**"
   ]
  },
  {
   "cell_type": "code",
   "execution_count": 41,
   "id": "d5ecee17",
   "metadata": {
    "scrolled": false
   },
   "outputs": [
    {
     "data": {
      "text/plain": [
       "<Axes: >"
      ]
     },
     "execution_count": 41,
     "metadata": {},
     "output_type": "execute_result"
    },
    {
     "data": {
      "image/png": "[encoded data removed]",
      "text/plain": [
       "<Figure size 640x480 with 2 Axes>"
      ]
     },
     "metadata": {},
     "output_type": "display_data"
    }
   ],
   "source": [
    "correlacao = dados_aluguel[[\"disponibilidade_365\", \"numero_de_reviews\", \"price\"]].corr()\n",
    "sns.heatmap(correlacao, annot=True)"
   ]
  },
  {
   "cell_type": "markdown",
   "id": "96b53808",
   "metadata": {},
   "source": [
    "**Apesar da correlação fraca entre as variáveis disponibilidade e número de reviews é uma correlação positiva, mas não significa que quanto mais dias o aluguel ficar disponível maiores serão as quantidades de reviews, já com relação a variável preço, ela indica que não há correlação entre as variáveis.**"
   ]
  },
  {
   "cell_type": "markdown",
   "id": "d50295b9",
   "metadata": {},
   "source": [
    "### Supondo que uma pessoa esteja pensando em investir em um apartamento para alugar na plataforma, onde seria mais indicada a compra?"
   ]
  },
  {
   "cell_type": "markdown",
   "id": "57a96843",
   "metadata": {},
   "source": [
    "**Como trata-se de um investimento, essa pergunta pode ser respondida de acordo com o preço dos apartamentos de cada bairro, em que o bairro que possua os maiores aluguéis e também a maior quantidade de reviews deve ser o local mais apropiado para ser feito esse investimento.**"
   ]
  },
  {
   "cell_type": "code",
   "execution_count": 42,
   "id": "edf32ab1",
   "metadata": {},
   "outputs": [
    {
     "data": {
      "text/html": [
       "<div>\n",
       "<style scoped>\n",
       "    .dataframe tbody tr th:only-of-type {\n",
       "        vertical-align: middle;\n",
       "    }\n",
       "\n",
       "    .dataframe tbody tr th {\n",
       "        vertical-align: top;\n",
       "    }\n",
       "\n",
       "    .dataframe thead th {\n",
       "        text-align: right;\n",
       "    }\n",
       "</style>\n",
       "<table border=\"1\" class=\"dataframe\">\n",
       "  <thead>\n",
       "    <tr style=\"text-align: right;\">\n",
       "      <th></th>\n",
       "      <th>media_preco</th>\n",
       "      <th>qtd_reviews</th>\n",
       "    </tr>\n",
       "    <tr>\n",
       "      <th>bairro_group</th>\n",
       "      <th></th>\n",
       "      <th></th>\n",
       "    </tr>\n",
       "  </thead>\n",
       "  <tbody>\n",
       "    <tr>\n",
       "      <th>Bronx</th>\n",
       "      <td>87.577064</td>\n",
       "      <td>28316</td>\n",
       "    </tr>\n",
       "    <tr>\n",
       "      <th>Brooklyn</th>\n",
       "      <td>124.451016</td>\n",
       "      <td>486203</td>\n",
       "    </tr>\n",
       "    <tr>\n",
       "      <th>Manhattan</th>\n",
       "      <td>196.890464</td>\n",
       "      <td>454565</td>\n",
       "    </tr>\n",
       "    <tr>\n",
       "      <th>Queens</th>\n",
       "      <td>99.493997</td>\n",
       "      <td>156920</td>\n",
       "    </tr>\n",
       "    <tr>\n",
       "      <th>Staten Island</th>\n",
       "      <td>114.812332</td>\n",
       "      <td>11541</td>\n",
       "    </tr>\n",
       "  </tbody>\n",
       "</table>\n",
       "</div>"
      ],
      "text/plain": [
       "               media_preco  qtd_reviews\n",
       "bairro_group                           \n",
       "Bronx            87.577064        28316\n",
       "Brooklyn        124.451016       486203\n",
       "Manhattan       196.890464       454565\n",
       "Queens           99.493997       156920\n",
       "Staten Island   114.812332        11541"
      ]
     },
     "execution_count": 42,
     "metadata": {},
     "output_type": "execute_result"
    }
   ],
   "source": [
    "dados_aluguel.groupby(\"bairro_group\").agg(media_preco=(\"price\", \"mean\"), qtd_reviews=(\"numero_de_reviews\", \"sum\"))"
   ]
  },
  {
   "cell_type": "markdown",
   "id": "768f5d92",
   "metadata": {},
   "source": [
    "**O bairro de Manhattan seria a melhor opção nesse caso, pois, apesar de ter a segunda maior quantidade de reviews, o bairro possui o maior preço médio, sendo cerca de 50% mais caro que o Brooklyn, bairro que possui a maior quantidade de reviews.**"
   ]
  },
  {
   "cell_type": "markdown",
   "id": "bcdd9897",
   "metadata": {},
   "source": [
    "### O número mínimo de noites e a disponibilidade ao longo do ano interferem no preço?"
   ]
  },
  {
   "cell_type": "markdown",
   "id": "69282d2b",
   "metadata": {},
   "source": [
    "**Essa pergunta pode ser respondida através a verificação da correlação dessas variáveis.**"
   ]
  },
  {
   "cell_type": "code",
   "execution_count": 43,
   "id": "844ee191",
   "metadata": {},
   "outputs": [
    {
     "data": {
      "text/plain": [
       "<Axes: >"
      ]
     },
     "execution_count": 43,
     "metadata": {},
     "output_type": "execute_result"
    },
    {
     "data": {
      "image/png": "[encoded data removed]",
      "text/plain": [
       "<Figure size 640x480 with 2 Axes>"
      ]
     },
     "metadata": {},
     "output_type": "display_data"
    }
   ],
   "source": [
    "correlacao = dados_aluguel[[\"disponibilidade_365\", \"minimo_noites\", \"price\"]].corr()\n",
    "sns.heatmap(correlacao, annot=True)"
   ]
  },
  {
   "cell_type": "markdown",
   "id": "379065b8",
   "metadata": {},
   "source": [
    "**A correlação indica que não há nenhuma relação entre as variáveis, ou seja, a quantidade mínima de noites e a disponibilidade dos apartamentos no decorrer do ano não interferem nos preços.**"
   ]
  },
  {
   "cell_type": "markdown",
   "id": "e4a75cb4",
   "metadata": {},
   "source": [
    "### Existe algum padrão no texto do nome do local para lugares de mais alto valor?"
   ]
  },
  {
   "cell_type": "markdown",
   "id": "c3ce7ceb",
   "metadata": {},
   "source": [
    "**Para responder essa pergunta temos que considerar algumas palavras chave para verificarmos se o preço é elevado devido essas determinadas palavras, algumas delas podem ser consideradas, como \"beach\" caso seja próximo de alguma praia, \"luxury\", pois é utilizado para descrever locais de luxo, \"downtown\" pois fica localizado próximo do centro da cidade.**"
   ]
  },
  {
   "cell_type": "code",
   "execution_count": 44,
   "id": "90689247",
   "metadata": {},
   "outputs": [
    {
     "name": "stdout",
     "output_type": "stream",
     "text": [
      "contém_downtown\n",
      "False    152.425247\n",
      "True     193.813602\n",
      "Name: price, dtype: float64\n",
      "contém_luxury\n",
      "False    148.433631\n",
      "True     271.614444\n",
      "Name: price, dtype: float64\n",
      "contém_beach\n",
      "False    152.750334\n",
      "True     155.691892\n",
      "Name: price, dtype: float64\n"
     ]
    }
   ],
   "source": [
    "dados_com_palavras = dados_aluguel.copy()\n",
    "dados_com_palavras[\"contém_downtown\"] = dados_com_palavras[\"nome\"].str.contains(\"downtown\", case = False, na = False)\n",
    "dados_com_palavras[\"contém_luxury\"] = dados_com_palavras[\"nome\"].str.contains(\"luxury\", case=False, na=False)\n",
    "dados_com_palavras[\"contém_beach\"] = dados_com_palavras[\"nome\"].str.contains(\"beach\", case=False, na=False)\n",
    "\n",
    "print(dados_com_palavras.groupby(\"contém_downtown\")[\"price\"].mean())\n",
    "print(dados_com_palavras.groupby(\"contém_luxury\")[\"price\"].mean())\n",
    "print(dados_com_palavras.groupby(\"contém_beach\")[\"price\"].mean())"
   ]
  },
  {
   "cell_type": "markdown",
   "id": "386f3a71",
   "metadata": {},
   "source": [
    "**A partir dessas informações acima, pode-se concluir que, caso contenha \"downtown\" e \"luxury\" em seu nome, a média de preços cobrado é significativamente maior do que caso não contenham, já a palavra \"beach\" não obteve tanta diferença assim nos preços.** "
   ]
  },
  {
   "cell_type": "markdown",
   "id": "fe052a20",
   "metadata": {},
   "source": [
    "----"
   ]
  },
  {
   "cell_type": "markdown",
   "id": "e17a9255",
   "metadata": {},
   "source": [
    "# Machine Learning"
   ]
  },
  {
   "cell_type": "markdown",
   "id": "362cf94c",
   "metadata": {},
   "source": [
    "------"
   ]
  },
  {
   "cell_type": "markdown",
   "id": "4ae7fa76",
   "metadata": {},
   "source": [
    "**O problema a ser resolvido é um problema de regressão, pois a variável que buscamos prever é numérica, se fosse para categorizar algo, seria um problema de classificação, os modelos mais conhecidos para resolver esse tipo de problema são Random Forest e Extreme Gradient Boosting.**\n",
    "\n",
    "**O Random Forest, de maneira simplificada, parte do princípio de bagging, em que diversas árvores de decisão independentes são construídas e calcula-se a média das árvores para a criação do modelo.**\n",
    "\n",
    "**Já o Extreme Gradient Boosting é uma variante do método Gradient Boosting, partindo do princípio de boosting, em que diversas árvores de decisão são construidas em sequência, cada uma corrigindo os erros da árvore anterior para melhorar a performance do modelo.**"
   ]
  },
  {
   "cell_type": "markdown",
   "id": "4875acdd",
   "metadata": {},
   "source": [
    "**Agora será desenvolvido o modelo de machine learning para a previsão de preços a partir dos dados disponíveis. As variáveis utilizadas serão todas, exceto `id`, `nome`, `host_id`, `host_name`, `bairro` e `ultima_review`. As variáveis categóricas foram descartadas por possuírem muitos níveis e não apresentarem relevância estatística para o modelo. Já as variáveis numéricas, como `id` e `host_id`, não possuem variabilidade suficiente para contribuir com o desempenho do modelo. Além disso, parte dessas variáveis viola princípios éticos e de privacidade, o reforçando a decisão de não utilizá-las.**"
   ]
  },
  {
   "cell_type": "code",
   "execution_count": 45,
   "id": "b072e32c",
   "metadata": {},
   "outputs": [],
   "source": [
    "dados_machine_learning = dados_aluguel.copy()"
   ]
  },
  {
   "cell_type": "code",
   "execution_count": 46,
   "id": "28916533",
   "metadata": {
    "scrolled": true
   },
   "outputs": [
    {
     "data": {
      "text/html": [
       "<div>\n",
       "<style scoped>\n",
       "    .dataframe tbody tr th:only-of-type {\n",
       "        vertical-align: middle;\n",
       "    }\n",
       "\n",
       "    .dataframe tbody tr th {\n",
       "        vertical-align: top;\n",
       "    }\n",
       "\n",
       "    .dataframe thead th {\n",
       "        text-align: right;\n",
       "    }\n",
       "</style>\n",
       "<table border=\"1\" class=\"dataframe\">\n",
       "  <thead>\n",
       "    <tr style=\"text-align: right;\">\n",
       "      <th></th>\n",
       "      <th>id</th>\n",
       "      <th>nome</th>\n",
       "      <th>host_id</th>\n",
       "      <th>host_name</th>\n",
       "      <th>bairro_group</th>\n",
       "      <th>bairro</th>\n",
       "      <th>latitude</th>\n",
       "      <th>longitude</th>\n",
       "      <th>room_type</th>\n",
       "      <th>price</th>\n",
       "      <th>minimo_noites</th>\n",
       "      <th>numero_de_reviews</th>\n",
       "      <th>ultima_review</th>\n",
       "      <th>reviews_por_mes</th>\n",
       "      <th>calculado_host_listings_count</th>\n",
       "      <th>disponibilidade_365</th>\n",
       "    </tr>\n",
       "  </thead>\n",
       "  <tbody>\n",
       "    <tr>\n",
       "      <th>0</th>\n",
       "      <td>2595</td>\n",
       "      <td>Skylit Midtown Castle</td>\n",
       "      <td>2845</td>\n",
       "      <td>Jennifer</td>\n",
       "      <td>Manhattan</td>\n",
       "      <td>Midtown</td>\n",
       "      <td>40.75362</td>\n",
       "      <td>-73.98377</td>\n",
       "      <td>Entire home/apt</td>\n",
       "      <td>225</td>\n",
       "      <td>1</td>\n",
       "      <td>45</td>\n",
       "      <td>2019-05-21</td>\n",
       "      <td>0.38</td>\n",
       "      <td>2</td>\n",
       "      <td>355</td>\n",
       "    </tr>\n",
       "    <tr>\n",
       "      <th>1</th>\n",
       "      <td>3647</td>\n",
       "      <td>THE VILLAGE OF HARLEM....NEW YORK !</td>\n",
       "      <td>4632</td>\n",
       "      <td>Elisabeth</td>\n",
       "      <td>Manhattan</td>\n",
       "      <td>Harlem</td>\n",
       "      <td>40.80902</td>\n",
       "      <td>-73.94190</td>\n",
       "      <td>Private room</td>\n",
       "      <td>150</td>\n",
       "      <td>3</td>\n",
       "      <td>0</td>\n",
       "      <td>0</td>\n",
       "      <td>0.00</td>\n",
       "      <td>1</td>\n",
       "      <td>365</td>\n",
       "    </tr>\n",
       "    <tr>\n",
       "      <th>2</th>\n",
       "      <td>3831</td>\n",
       "      <td>Cozy Entire Floor of Brownstone</td>\n",
       "      <td>4869</td>\n",
       "      <td>LisaRoxanne</td>\n",
       "      <td>Brooklyn</td>\n",
       "      <td>Clinton Hill</td>\n",
       "      <td>40.68514</td>\n",
       "      <td>-73.95976</td>\n",
       "      <td>Entire home/apt</td>\n",
       "      <td>89</td>\n",
       "      <td>1</td>\n",
       "      <td>270</td>\n",
       "      <td>2019-07-05</td>\n",
       "      <td>4.64</td>\n",
       "      <td>1</td>\n",
       "      <td>194</td>\n",
       "    </tr>\n",
       "    <tr>\n",
       "      <th>3</th>\n",
       "      <td>5022</td>\n",
       "      <td>Entire Apt: Spacious Studio/Loft by central park</td>\n",
       "      <td>7192</td>\n",
       "      <td>Laura</td>\n",
       "      <td>Manhattan</td>\n",
       "      <td>East Harlem</td>\n",
       "      <td>40.79851</td>\n",
       "      <td>-73.94399</td>\n",
       "      <td>Entire home/apt</td>\n",
       "      <td>80</td>\n",
       "      <td>10</td>\n",
       "      <td>9</td>\n",
       "      <td>2018-11-19</td>\n",
       "      <td>0.10</td>\n",
       "      <td>1</td>\n",
       "      <td>0</td>\n",
       "    </tr>\n",
       "    <tr>\n",
       "      <th>4</th>\n",
       "      <td>5099</td>\n",
       "      <td>Large Cozy 1 BR Apartment In Midtown East</td>\n",
       "      <td>7322</td>\n",
       "      <td>Chris</td>\n",
       "      <td>Manhattan</td>\n",
       "      <td>Murray Hill</td>\n",
       "      <td>40.74767</td>\n",
       "      <td>-73.97500</td>\n",
       "      <td>Entire home/apt</td>\n",
       "      <td>200</td>\n",
       "      <td>3</td>\n",
       "      <td>74</td>\n",
       "      <td>2019-06-22</td>\n",
       "      <td>0.59</td>\n",
       "      <td>1</td>\n",
       "      <td>129</td>\n",
       "    </tr>\n",
       "  </tbody>\n",
       "</table>\n",
       "</div>"
      ],
      "text/plain": [
       "     id                                              nome  host_id  \\\n",
       "0  2595                             Skylit Midtown Castle     2845   \n",
       "1  3647               THE VILLAGE OF HARLEM....NEW YORK !     4632   \n",
       "2  3831                   Cozy Entire Floor of Brownstone     4869   \n",
       "3  5022  Entire Apt: Spacious Studio/Loft by central park     7192   \n",
       "4  5099         Large Cozy 1 BR Apartment In Midtown East     7322   \n",
       "\n",
       "     host_name bairro_group        bairro  latitude  longitude  \\\n",
       "0     Jennifer    Manhattan       Midtown  40.75362  -73.98377   \n",
       "1    Elisabeth    Manhattan        Harlem  40.80902  -73.94190   \n",
       "2  LisaRoxanne     Brooklyn  Clinton Hill  40.68514  -73.95976   \n",
       "3        Laura    Manhattan   East Harlem  40.79851  -73.94399   \n",
       "4        Chris    Manhattan   Murray Hill  40.74767  -73.97500   \n",
       "\n",
       "         room_type  price  minimo_noites  numero_de_reviews ultima_review  \\\n",
       "0  Entire home/apt    225              1                 45    2019-05-21   \n",
       "1     Private room    150              3                  0             0   \n",
       "2  Entire home/apt     89              1                270    2019-07-05   \n",
       "3  Entire home/apt     80             10                  9    2018-11-19   \n",
       "4  Entire home/apt    200              3                 74    2019-06-22   \n",
       "\n",
       "   reviews_por_mes  calculado_host_listings_count  disponibilidade_365  \n",
       "0             0.38                              2                  355  \n",
       "1             0.00                              1                  365  \n",
       "2             4.64                              1                  194  \n",
       "3             0.10                              1                    0  \n",
       "4             0.59                              1                  129  "
      ]
     },
     "execution_count": 46,
     "metadata": {},
     "output_type": "execute_result"
    }
   ],
   "source": [
    "dados_machine_learning.head()"
   ]
  },
  {
   "cell_type": "markdown",
   "id": "70430b0f",
   "metadata": {},
   "source": [
    "**Os dados ainda apresentam um problema, para rodar modelos de machine learning, tudo deve ser numérico, as variáveis `bairro_group` e `room_type` devem ser transformadas em numéricas para conseguirmos criar o modelo.** "
   ]
  },
  {
   "cell_type": "code",
   "execution_count": 47,
   "id": "4b4427e7",
   "metadata": {},
   "outputs": [
    {
     "name": "stdout",
     "output_type": "stream",
     "text": [
      "<class 'pandas.core.frame.DataFrame'>\n",
      "Index: 48870 entries, 0 to 48893\n",
      "Data columns (total 16 columns):\n",
      " #   Column                         Non-Null Count  Dtype  \n",
      "---  ------                         --------------  -----  \n",
      " 0   id                             48870 non-null  int64  \n",
      " 1   nome                           48870 non-null  object \n",
      " 2   host_id                        48870 non-null  int64  \n",
      " 3   host_name                      48870 non-null  object \n",
      " 4   bairro_group                   48870 non-null  object \n",
      " 5   bairro                         48870 non-null  object \n",
      " 6   latitude                       48870 non-null  float64\n",
      " 7   longitude                      48870 non-null  float64\n",
      " 8   room_type                      48870 non-null  object \n",
      " 9   price                          48870 non-null  int64  \n",
      " 10  minimo_noites                  48870 non-null  int64  \n",
      " 11  numero_de_reviews              48870 non-null  int64  \n",
      " 12  ultima_review                  48870 non-null  object \n",
      " 13  reviews_por_mes                48870 non-null  float64\n",
      " 14  calculado_host_listings_count  48870 non-null  int64  \n",
      " 15  disponibilidade_365            48870 non-null  int64  \n",
      "dtypes: float64(3), int64(7), object(6)\n",
      "memory usage: 6.3+ MB\n"
     ]
    }
   ],
   "source": [
    "dados_machine_learning.info()"
   ]
  },
  {
   "cell_type": "code",
   "execution_count": 48,
   "id": "9daba92d",
   "metadata": {},
   "outputs": [],
   "source": [
    "dados_machine_learning[\"bairro_group\"] = dados_machine_learning[\"bairro_group\"].replace({\n",
    "    'Bronx': '1',\n",
    "    'Brooklyn': '2',\n",
    "    'Manhattan': '3',\n",
    "    'Queens': '4',\n",
    "    'Staten Island': '5'}).astype(int)\n",
    "\n",
    "dados_machine_learning[\"room_type\"] = dados_machine_learning[\"room_type\"].replace({\n",
    "    'Entire home/apt': '1',\n",
    "    'Private room': '2',\n",
    "    'Shared room': '3'}).astype(int)"
   ]
  },
  {
   "cell_type": "code",
   "execution_count": 49,
   "id": "0d05724d",
   "metadata": {},
   "outputs": [
    {
     "data": {
      "text/html": [
       "<div>\n",
       "<style scoped>\n",
       "    .dataframe tbody tr th:only-of-type {\n",
       "        vertical-align: middle;\n",
       "    }\n",
       "\n",
       "    .dataframe tbody tr th {\n",
       "        vertical-align: top;\n",
       "    }\n",
       "\n",
       "    .dataframe thead th {\n",
       "        text-align: right;\n",
       "    }\n",
       "</style>\n",
       "<table border=\"1\" class=\"dataframe\">\n",
       "  <thead>\n",
       "    <tr style=\"text-align: right;\">\n",
       "      <th></th>\n",
       "      <th>id</th>\n",
       "      <th>nome</th>\n",
       "      <th>host_id</th>\n",
       "      <th>host_name</th>\n",
       "      <th>bairro_group</th>\n",
       "      <th>bairro</th>\n",
       "      <th>latitude</th>\n",
       "      <th>longitude</th>\n",
       "      <th>room_type</th>\n",
       "      <th>price</th>\n",
       "      <th>minimo_noites</th>\n",
       "      <th>numero_de_reviews</th>\n",
       "      <th>ultima_review</th>\n",
       "      <th>reviews_por_mes</th>\n",
       "      <th>calculado_host_listings_count</th>\n",
       "      <th>disponibilidade_365</th>\n",
       "    </tr>\n",
       "  </thead>\n",
       "  <tbody>\n",
       "    <tr>\n",
       "      <th>0</th>\n",
       "      <td>2595</td>\n",
       "      <td>Skylit Midtown Castle</td>\n",
       "      <td>2845</td>\n",
       "      <td>Jennifer</td>\n",
       "      <td>3</td>\n",
       "      <td>Midtown</td>\n",
       "      <td>40.75362</td>\n",
       "      <td>-73.98377</td>\n",
       "      <td>1</td>\n",
       "      <td>225</td>\n",
       "      <td>1</td>\n",
       "      <td>45</td>\n",
       "      <td>2019-05-21</td>\n",
       "      <td>0.38</td>\n",
       "      <td>2</td>\n",
       "      <td>355</td>\n",
       "    </tr>\n",
       "    <tr>\n",
       "      <th>1</th>\n",
       "      <td>3647</td>\n",
       "      <td>THE VILLAGE OF HARLEM....NEW YORK !</td>\n",
       "      <td>4632</td>\n",
       "      <td>Elisabeth</td>\n",
       "      <td>3</td>\n",
       "      <td>Harlem</td>\n",
       "      <td>40.80902</td>\n",
       "      <td>-73.94190</td>\n",
       "      <td>2</td>\n",
       "      <td>150</td>\n",
       "      <td>3</td>\n",
       "      <td>0</td>\n",
       "      <td>0</td>\n",
       "      <td>0.00</td>\n",
       "      <td>1</td>\n",
       "      <td>365</td>\n",
       "    </tr>\n",
       "    <tr>\n",
       "      <th>2</th>\n",
       "      <td>3831</td>\n",
       "      <td>Cozy Entire Floor of Brownstone</td>\n",
       "      <td>4869</td>\n",
       "      <td>LisaRoxanne</td>\n",
       "      <td>2</td>\n",
       "      <td>Clinton Hill</td>\n",
       "      <td>40.68514</td>\n",
       "      <td>-73.95976</td>\n",
       "      <td>1</td>\n",
       "      <td>89</td>\n",
       "      <td>1</td>\n",
       "      <td>270</td>\n",
       "      <td>2019-07-05</td>\n",
       "      <td>4.64</td>\n",
       "      <td>1</td>\n",
       "      <td>194</td>\n",
       "    </tr>\n",
       "    <tr>\n",
       "      <th>3</th>\n",
       "      <td>5022</td>\n",
       "      <td>Entire Apt: Spacious Studio/Loft by central park</td>\n",
       "      <td>7192</td>\n",
       "      <td>Laura</td>\n",
       "      <td>3</td>\n",
       "      <td>East Harlem</td>\n",
       "      <td>40.79851</td>\n",
       "      <td>-73.94399</td>\n",
       "      <td>1</td>\n",
       "      <td>80</td>\n",
       "      <td>10</td>\n",
       "      <td>9</td>\n",
       "      <td>2018-11-19</td>\n",
       "      <td>0.10</td>\n",
       "      <td>1</td>\n",
       "      <td>0</td>\n",
       "    </tr>\n",
       "    <tr>\n",
       "      <th>4</th>\n",
       "      <td>5099</td>\n",
       "      <td>Large Cozy 1 BR Apartment In Midtown East</td>\n",
       "      <td>7322</td>\n",
       "      <td>Chris</td>\n",
       "      <td>3</td>\n",
       "      <td>Murray Hill</td>\n",
       "      <td>40.74767</td>\n",
       "      <td>-73.97500</td>\n",
       "      <td>1</td>\n",
       "      <td>200</td>\n",
       "      <td>3</td>\n",
       "      <td>74</td>\n",
       "      <td>2019-06-22</td>\n",
       "      <td>0.59</td>\n",
       "      <td>1</td>\n",
       "      <td>129</td>\n",
       "    </tr>\n",
       "  </tbody>\n",
       "</table>\n",
       "</div>"
      ],
      "text/plain": [
       "     id                                              nome  host_id  \\\n",
       "0  2595                             Skylit Midtown Castle     2845   \n",
       "1  3647               THE VILLAGE OF HARLEM....NEW YORK !     4632   \n",
       "2  3831                   Cozy Entire Floor of Brownstone     4869   \n",
       "3  5022  Entire Apt: Spacious Studio/Loft by central park     7192   \n",
       "4  5099         Large Cozy 1 BR Apartment In Midtown East     7322   \n",
       "\n",
       "     host_name  bairro_group        bairro  latitude  longitude  room_type  \\\n",
       "0     Jennifer             3       Midtown  40.75362  -73.98377          1   \n",
       "1    Elisabeth             3        Harlem  40.80902  -73.94190          2   \n",
       "2  LisaRoxanne             2  Clinton Hill  40.68514  -73.95976          1   \n",
       "3        Laura             3   East Harlem  40.79851  -73.94399          1   \n",
       "4        Chris             3   Murray Hill  40.74767  -73.97500          1   \n",
       "\n",
       "   price  minimo_noites  numero_de_reviews ultima_review  reviews_por_mes  \\\n",
       "0    225              1                 45    2019-05-21             0.38   \n",
       "1    150              3                  0             0             0.00   \n",
       "2     89              1                270    2019-07-05             4.64   \n",
       "3     80             10                  9    2018-11-19             0.10   \n",
       "4    200              3                 74    2019-06-22             0.59   \n",
       "\n",
       "   calculado_host_listings_count  disponibilidade_365  \n",
       "0                              2                  355  \n",
       "1                              1                  365  \n",
       "2                              1                  194  \n",
       "3                              1                    0  \n",
       "4                              1                  129  "
      ]
     },
     "execution_count": 49,
     "metadata": {},
     "output_type": "execute_result"
    }
   ],
   "source": [
    "dados_machine_learning.head()"
   ]
  },
  {
   "cell_type": "markdown",
   "id": "6e884fe1",
   "metadata": {},
   "source": [
    "**A partir desses dados, agora pode-se começar a realização do modelo de machine learning, onde serão treinados dois modelos e verificados quais são os mais adequados para a realização da previsão de preços.**"
   ]
  },
  {
   "cell_type": "markdown",
   "id": "c8a86a5a",
   "metadata": {},
   "source": [
    "------"
   ]
  },
  {
   "cell_type": "markdown",
   "id": "48901e7a",
   "metadata": {},
   "source": [
    "## Random Forest"
   ]
  },
  {
   "cell_type": "markdown",
   "id": "eecf1daf",
   "metadata": {},
   "source": [
    "------"
   ]
  },
  {
   "cell_type": "markdown",
   "id": "0f3bfae7",
   "metadata": {},
   "source": [
    "**O modelo Random Forest tem a vantagem de ser bastante robusto e não propenso a outliers, pois utiliza-se da média das previsões das árvores e também é um modelo eficiente com relação ao custo computacional, pois como as árvores são independentes, elas podem ser treinadas simultaneamente, porém, é um modelo que não captura muito bem relações muito complexas entre as variáveis.**"
   ]
  },
  {
   "cell_type": "markdown",
   "id": "17fb2ef2",
   "metadata": {},
   "source": [
    "**Dividindo as bases em treino e teste**"
   ]
  },
  {
   "cell_type": "code",
   "execution_count": 50,
   "id": "063877cf",
   "metadata": {},
   "outputs": [],
   "source": [
    "ABT = dados_machine_learning.copy()\n",
    "X = ABT.drop(columns=[\"price\",\"id\",\"nome\",\"host_id\",\"host_name\",\"bairro\",\"ultima_review\"]) \n",
    "y = ABT[\"price\"]\n",
    "X_train, X_test, y_train, y_test = train_test_split(X, y, test_size=0.25, random_state=411, stratify=None)"
   ]
  },
  {
   "cell_type": "markdown",
   "id": "dc42133c",
   "metadata": {},
   "source": [
    "**Verificando como ficou a média de preço nas 3 bases**"
   ]
  },
  {
   "cell_type": "code",
   "execution_count": 51,
   "id": "56051516",
   "metadata": {},
   "outputs": [
    {
     "name": "stdout",
     "output_type": "stream",
     "text": [
      "Média geral do preço: 152.76146920401064\n",
      "Média dos preços no conjunto de treino: 152.52654698242932\n",
      "Média dos preços no conjunto de teste: 153.466197413652\n"
     ]
    }
   ],
   "source": [
    "print(\"Média geral do preço:\", dados_machine_learning[\"price\"].mean())\n",
    "print(\"Média dos preços no conjunto de treino:\", y_train.mean())\n",
    "print(\"Média dos preços no conjunto de teste:\", y_test.mean())"
   ]
  },
  {
   "cell_type": "markdown",
   "id": "4cfa34b3",
   "metadata": {},
   "source": [
    "**Tunando o modelo para identificar os melhores hiper-parâmetros**"
   ]
  },
  {
   "cell_type": "code",
   "execution_count": 52,
   "id": "0d1297ad",
   "metadata": {},
   "outputs": [],
   "source": [
    "rf_model = RandomForestRegressor()\n",
    "param_grid = {\n",
    "    'n_estimators': [10, 50, 100, 200],\n",
    "    'min_samples_split': [2, 5, 10],\n",
    "    'max_features': ['sqrt', 'log2', None]\n",
    "}"
   ]
  },
  {
   "cell_type": "markdown",
   "id": "cf2d31bd",
   "metadata": {},
   "source": [
    "**Agora, buscando o modelo com os melhores hiper-parâmetros**"
   ]
  },
  {
   "cell_type": "code",
   "execution_count": 53,
   "id": "fbef25e8",
   "metadata": {},
   "outputs": [
    {
     "data": {
      "text/html": [
       "<style>#sk-container-id-1 {color: black;}#sk-container-id-1 pre{padding: 0;}#sk-container-id-1 div.sk-toggleable {background-color: white;}#sk-container-id-1 label.sk-toggleable__label {cursor: pointer;display: block;width: 100%;margin-bottom: 0;padding: 0.3em;box-sizing: border-box;text-align: center;}#sk-container-id-1 label.sk-toggleable__label-arrow:before {content: \"▸\";float: left;margin-right: 0.25em;color: #696969;}#sk-container-id-1 label.sk-toggleable__label-arrow:hover:before {color: black;}#sk-container-id-1 div.sk-estimator:hover label.sk-toggleable__label-arrow:before {color: black;}#sk-container-id-1 div.sk-toggleable__content {max-height: 0;max-width: 0;overflow: hidden;text-align: left;background-color: #f0f8ff;}#sk-container-id-1 div.sk-toggleable__content pre {margin: 0.2em;color: black;border-radius: 0.25em;background-color: #f0f8ff;}#sk-container-id-1 input.sk-toggleable__control:checked~div.sk-toggleable__content {max-height: 200px;max-width: 100%;overflow: auto;}#sk-container-id-1 input.sk-toggleable__control:checked~label.sk-toggleable__label-arrow:before {content: \"▾\";}#sk-container-id-1 div.sk-estimator input.sk-toggleable__control:checked~label.sk-toggleable__label {background-color: #d4ebff;}#sk-container-id-1 div.sk-label input.sk-toggleable__control:checked~label.sk-toggleable__label {background-color: #d4ebff;}#sk-container-id-1 input.sk-hidden--visually {border: 0;clip: rect(1px 1px 1px 1px);clip: rect(1px, 1px, 1px, 1px);height: 1px;margin: -1px;overflow: hidden;padding: 0;position: absolute;width: 1px;}#sk-container-id-1 div.sk-estimator {font-family: monospace;background-color: #f0f8ff;border: 1px dotted black;border-radius: 0.25em;box-sizing: border-box;margin-bottom: 0.5em;}#sk-container-id-1 div.sk-estimator:hover {background-color: #d4ebff;}#sk-container-id-1 div.sk-parallel-item::after {content: \"\";width: 100%;border-bottom: 1px solid gray;flex-grow: 1;}#sk-container-id-1 div.sk-label:hover label.sk-toggleable__label {background-color: #d4ebff;}#sk-container-id-1 div.sk-serial::before {content: \"\";position: absolute;border-left: 1px solid gray;box-sizing: border-box;top: 0;bottom: 0;left: 50%;z-index: 0;}#sk-container-id-1 div.sk-serial {display: flex;flex-direction: column;align-items: center;background-color: white;padding-right: 0.2em;padding-left: 0.2em;position: relative;}#sk-container-id-1 div.sk-item {position: relative;z-index: 1;}#sk-container-id-1 div.sk-parallel {display: flex;align-items: stretch;justify-content: center;background-color: white;position: relative;}#sk-container-id-1 div.sk-item::before, #sk-container-id-1 div.sk-parallel-item::before {content: \"\";position: absolute;border-left: 1px solid gray;box-sizing: border-box;top: 0;bottom: 0;left: 50%;z-index: -1;}#sk-container-id-1 div.sk-parallel-item {display: flex;flex-direction: column;z-index: 1;position: relative;background-color: white;}#sk-container-id-1 div.sk-parallel-item:first-child::after {align-self: flex-end;width: 50%;}#sk-container-id-1 div.sk-parallel-item:last-child::after {align-self: flex-start;width: 50%;}#sk-container-id-1 div.sk-parallel-item:only-child::after {width: 0;}#sk-container-id-1 div.sk-dashed-wrapped {border: 1px dashed gray;margin: 0 0.4em 0.5em 0.4em;box-sizing: border-box;padding-bottom: 0.4em;background-color: white;}#sk-container-id-1 div.sk-label label {font-family: monospace;font-weight: bold;display: inline-block;line-height: 1.2em;}#sk-container-id-1 div.sk-label-container {text-align: center;}#sk-container-id-1 div.sk-container {/* jupyter's `normalize.less` sets `[hidden] { display: none; }` but bootstrap.min.css set `[hidden] { display: none !important; }` so we also need the `!important` here to be able to override the default hidden behavior on the sphinx rendered scikit-learn.org. See: https://github.com/scikit-learn/scikit-learn/issues/21755 */display: inline-block !important;position: relative;}#sk-container-id-1 div.sk-text-repr-fallback {display: none;}</style><div id=\"sk-container-id-1\" class=\"sk-top-container\"><div class=\"sk-text-repr-fallback\"><pre>GridSearchCV(cv=KFold(n_splits=5, random_state=411, shuffle=True),\n",
       "             error_score=&#x27;raise&#x27;, estimator=RandomForestRegressor(), n_jobs=-1,\n",
       "             param_grid={&#x27;max_features&#x27;: [&#x27;sqrt&#x27;, &#x27;log2&#x27;, None],\n",
       "                         &#x27;min_samples_split&#x27;: [2, 5, 10],\n",
       "                         &#x27;n_estimators&#x27;: [10, 50, 100, 200]},\n",
       "             scoring=&#x27;neg_mean_squared_error&#x27;)</pre><b>In a Jupyter environment, please rerun this cell to show the HTML representation or trust the notebook. <br />On GitHub, the HTML representation is unable to render, please try loading this page with nbviewer.org.</b></div><div class=\"sk-container\" hidden><div class=\"sk-item sk-dashed-wrapped\"><div class=\"sk-label-container\"><div class=\"sk-label sk-toggleable\"><input class=\"sk-toggleable__control sk-hidden--visually\" id=\"sk-estimator-id-1\" type=\"checkbox\" ><label for=\"sk-estimator-id-1\" class=\"sk-toggleable__label sk-toggleable__label-arrow\">GridSearchCV</label><div class=\"sk-toggleable__content\"><pre>GridSearchCV(cv=KFold(n_splits=5, random_state=411, shuffle=True),\n",
       "             error_score=&#x27;raise&#x27;, estimator=RandomForestRegressor(), n_jobs=-1,\n",
       "             param_grid={&#x27;max_features&#x27;: [&#x27;sqrt&#x27;, &#x27;log2&#x27;, None],\n",
       "                         &#x27;min_samples_split&#x27;: [2, 5, 10],\n",
       "                         &#x27;n_estimators&#x27;: [10, 50, 100, 200]},\n",
       "             scoring=&#x27;neg_mean_squared_error&#x27;)</pre></div></div></div><div class=\"sk-parallel\"><div class=\"sk-parallel-item\"><div class=\"sk-item\"><div class=\"sk-label-container\"><div class=\"sk-label sk-toggleable\"><input class=\"sk-toggleable__control sk-hidden--visually\" id=\"sk-estimator-id-2\" type=\"checkbox\" ><label for=\"sk-estimator-id-2\" class=\"sk-toggleable__label sk-toggleable__label-arrow\">estimator: RandomForestRegressor</label><div class=\"sk-toggleable__content\"><pre>RandomForestRegressor()</pre></div></div></div><div class=\"sk-serial\"><div class=\"sk-item\"><div class=\"sk-estimator sk-toggleable\"><input class=\"sk-toggleable__control sk-hidden--visually\" id=\"sk-estimator-id-3\" type=\"checkbox\" ><label for=\"sk-estimator-id-3\" class=\"sk-toggleable__label sk-toggleable__label-arrow\">RandomForestRegressor</label><div class=\"sk-toggleable__content\"><pre>RandomForestRegressor()</pre></div></div></div></div></div></div></div></div></div></div>"
      ],
      "text/plain": [
       "GridSearchCV(cv=KFold(n_splits=5, random_state=411, shuffle=True),\n",
       "             error_score='raise', estimator=RandomForestRegressor(), n_jobs=-1,\n",
       "             param_grid={'max_features': ['sqrt', 'log2', None],\n",
       "                         'min_samples_split': [2, 5, 10],\n",
       "                         'n_estimators': [10, 50, 100, 200]},\n",
       "             scoring='neg_mean_squared_error')"
      ]
     },
     "execution_count": 53,
     "metadata": {},
     "output_type": "execute_result"
    }
   ],
   "source": [
    "kfold = KFold(n_splits=5, shuffle=True, random_state=411)\n",
    "\n",
    "grid_search = GridSearchCV(rf_model, param_grid, cv=kfold, scoring='neg_mean_squared_error', n_jobs=-1, error_score='raise')\n",
    "grid_search.fit(X_train, y_train)"
   ]
  },
  {
   "cell_type": "markdown",
   "id": "4a7cda3a",
   "metadata": {},
   "source": [
    "**Métricas do modelo**"
   ]
  },
  {
   "cell_type": "markdown",
   "id": "8d976fcd",
   "metadata": {},
   "source": [
    "**As métricas do modelo escolhidas foram RMSE, MAE e R2 pois são as melhores medidas para avaliar um modelo em que a variável resposta é numérica (regressão).**\n",
    "\n",
    "**RMSE = Root Mean Squared Error (Erro quadrático médio) - Mede a diferença entre os valores previstos e os reais.**\n",
    "\n",
    "**MAE = Mean Absolute Error (Erro absoluto médio) - Mede o erro médio entre as previsões e os valores reais.**\n",
    "\n",
    "**R2 = Coeficiente de determinação - Mede o quão bem o modelo explica a variabilidade dos dados.**"
   ]
  },
  {
   "cell_type": "code",
   "execution_count": 54,
   "id": "284922d5",
   "metadata": {},
   "outputs": [],
   "source": [
    "best_model_rf = grid_search.best_estimator_\n",
    "y_pred = best_model_rf.predict(X_test)\n",
    "\n",
    "rmse = np.sqrt(mean_squared_error(y_test, y_pred))\n",
    "mae = mean_absolute_error(y_test, y_pred)\n",
    "r2 = r2_score(y_test, y_pred)\n",
    "\n",
    "metrics_rf = {\n",
    "    'RMSE': rmse,\n",
    "    'MAE': mae,\n",
    "    'R2': r2\n",
    "}"
   ]
  },
  {
   "cell_type": "markdown",
   "id": "402fd51b",
   "metadata": {},
   "source": [
    "**Modelo final**"
   ]
  },
  {
   "cell_type": "code",
   "execution_count": 55,
   "id": "f4e3e34f",
   "metadata": {},
   "outputs": [],
   "source": [
    "predict = pd.DataFrame({'Valores verdadeiros': y_test, 'Predito': y_pred})\n",
    "X_all = ABT.drop(columns=['price',\"id\",\"nome\",\"host_id\",\"host_name\",\"bairro\",\"ultima_review\"])\n",
    "y_all = ABT['price']\n",
    "final_model_rf = best_model_rf.fit(X_all, y_all)"
   ]
  },
  {
   "cell_type": "code",
   "execution_count": 56,
   "id": "463f7593",
   "metadata": {},
   "outputs": [
    {
     "data": {
      "text/html": [
       "<div>\n",
       "<style scoped>\n",
       "    .dataframe tbody tr th:only-of-type {\n",
       "        vertical-align: middle;\n",
       "    }\n",
       "\n",
       "    .dataframe tbody tr th {\n",
       "        vertical-align: top;\n",
       "    }\n",
       "\n",
       "    .dataframe thead th {\n",
       "        text-align: right;\n",
       "    }\n",
       "</style>\n",
       "<table border=\"1\" class=\"dataframe\">\n",
       "  <thead>\n",
       "    <tr style=\"text-align: right;\">\n",
       "      <th></th>\n",
       "      <th>Valores verdadeiros</th>\n",
       "      <th>Predito</th>\n",
       "    </tr>\n",
       "  </thead>\n",
       "  <tbody>\n",
       "    <tr>\n",
       "      <th>25992</th>\n",
       "      <td>55</td>\n",
       "      <td>66.427083</td>\n",
       "    </tr>\n",
       "    <tr>\n",
       "      <th>25232</th>\n",
       "      <td>350</td>\n",
       "      <td>197.103004</td>\n",
       "    </tr>\n",
       "    <tr>\n",
       "      <th>10283</th>\n",
       "      <td>60</td>\n",
       "      <td>106.729271</td>\n",
       "    </tr>\n",
       "    <tr>\n",
       "      <th>2762</th>\n",
       "      <td>159</td>\n",
       "      <td>196.896523</td>\n",
       "    </tr>\n",
       "    <tr>\n",
       "      <th>35722</th>\n",
       "      <td>180</td>\n",
       "      <td>187.179117</td>\n",
       "    </tr>\n",
       "    <tr>\n",
       "      <th>...</th>\n",
       "      <td>...</td>\n",
       "      <td>...</td>\n",
       "    </tr>\n",
       "    <tr>\n",
       "      <th>12999</th>\n",
       "      <td>80</td>\n",
       "      <td>89.790010</td>\n",
       "    </tr>\n",
       "    <tr>\n",
       "      <th>41296</th>\n",
       "      <td>145</td>\n",
       "      <td>207.614606</td>\n",
       "    </tr>\n",
       "    <tr>\n",
       "      <th>25355</th>\n",
       "      <td>160</td>\n",
       "      <td>113.357592</td>\n",
       "    </tr>\n",
       "    <tr>\n",
       "      <th>43007</th>\n",
       "      <td>52</td>\n",
       "      <td>60.184809</td>\n",
       "    </tr>\n",
       "    <tr>\n",
       "      <th>40846</th>\n",
       "      <td>120</td>\n",
       "      <td>187.423668</td>\n",
       "    </tr>\n",
       "  </tbody>\n",
       "</table>\n",
       "<p>12218 rows × 2 columns</p>\n",
       "</div>"
      ],
      "text/plain": [
       "       Valores verdadeiros     Predito\n",
       "25992                   55   66.427083\n",
       "25232                  350  197.103004\n",
       "10283                   60  106.729271\n",
       "2762                   159  196.896523\n",
       "35722                  180  187.179117\n",
       "...                    ...         ...\n",
       "12999                   80   89.790010\n",
       "41296                  145  207.614606\n",
       "25355                  160  113.357592\n",
       "43007                   52   60.184809\n",
       "40846                  120  187.423668\n",
       "\n",
       "[12218 rows x 2 columns]"
      ]
     },
     "execution_count": 56,
     "metadata": {},
     "output_type": "execute_result"
    }
   ],
   "source": [
    "predict"
   ]
  },
  {
   "cell_type": "markdown",
   "id": "d25f1525",
   "metadata": {},
   "source": [
    "-----"
   ]
  },
  {
   "cell_type": "markdown",
   "id": "1f27ffd3",
   "metadata": {},
   "source": [
    "## XGBoost"
   ]
  },
  {
   "cell_type": "markdown",
   "id": "27506861",
   "metadata": {},
   "source": [
    "----"
   ]
  },
  {
   "cell_type": "markdown",
   "id": "ac695e49",
   "metadata": {},
   "source": [
    "**O modelo XGBoost tem a vantagem de ser altamente eficiente e apresentar um desempenho elevado, conseguindo capturar relações complexas entre as variáveis. No entanto, por ser um modelo robusto, ele é propenso ao overfitting caso não seja bem regularizado. Além disso, por ser um modelo mais complexo, possui um custo computacional maior em comparação ao Random Forest, pois segue o princípio do boosting.**"
   ]
  },
  {
   "cell_type": "markdown",
   "id": "f3eb49da",
   "metadata": {},
   "source": [
    "---"
   ]
  },
  {
   "cell_type": "markdown",
   "id": "c5d2574d",
   "metadata": {},
   "source": [
    "**Tunando o modelo para identificar os melhores hiper-parâmetros**"
   ]
  },
  {
   "cell_type": "code",
   "execution_count": 57,
   "id": "fa977b2a",
   "metadata": {},
   "outputs": [],
   "source": [
    "xgb_model = xgb.XGBRegressor(objective=\"reg:squarederror\")\n",
    "param_grid = {\n",
    "    'n_estimators': [10, 50, 100, 200],\n",
    "    'max_depth': [3, 6, 10],\n",
    "    'learning_rate': [0.01, 0.1, 0.2],\n",
    "    'subsample': [0.7, 0.8, 1.0],\n",
    "    'colsample_bytree': [0.7, 0.8, 1.0],\n",
    "    'min_child_weight': [1, 5, 10],\n",
    "    'gamma': [0, 0.1, 0.2]\n",
    "}"
   ]
  },
  {
   "cell_type": "markdown",
   "id": "670373ac",
   "metadata": {},
   "source": [
    "**Buscando os melhores hiperparâmetros**"
   ]
  },
  {
   "cell_type": "code",
   "execution_count": 58,
   "id": "ccd7b8e6",
   "metadata": {},
   "outputs": [
    {
     "data": {
      "text/html": [
       "<style>#sk-container-id-2 {color: black;}#sk-container-id-2 pre{padding: 0;}#sk-container-id-2 div.sk-toggleable {background-color: white;}#sk-container-id-2 label.sk-toggleable__label {cursor: pointer;display: block;width: 100%;margin-bottom: 0;padding: 0.3em;box-sizing: border-box;text-align: center;}#sk-container-id-2 label.sk-toggleable__label-arrow:before {content: \"▸\";float: left;margin-right: 0.25em;color: #696969;}#sk-container-id-2 label.sk-toggleable__label-arrow:hover:before {color: black;}#sk-container-id-2 div.sk-estimator:hover label.sk-toggleable__label-arrow:before {color: black;}#sk-container-id-2 div.sk-toggleable__content {max-height: 0;max-width: 0;overflow: hidden;text-align: left;background-color: #f0f8ff;}#sk-container-id-2 div.sk-toggleable__content pre {margin: 0.2em;color: black;border-radius: 0.25em;background-color: #f0f8ff;}#sk-container-id-2 input.sk-toggleable__control:checked~div.sk-toggleable__content {max-height: 200px;max-width: 100%;overflow: auto;}#sk-container-id-2 input.sk-toggleable__control:checked~label.sk-toggleable__label-arrow:before {content: \"▾\";}#sk-container-id-2 div.sk-estimator input.sk-toggleable__control:checked~label.sk-toggleable__label {background-color: #d4ebff;}#sk-container-id-2 div.sk-label input.sk-toggleable__control:checked~label.sk-toggleable__label {background-color: #d4ebff;}#sk-container-id-2 input.sk-hidden--visually {border: 0;clip: rect(1px 1px 1px 1px);clip: rect(1px, 1px, 1px, 1px);height: 1px;margin: -1px;overflow: hidden;padding: 0;position: absolute;width: 1px;}#sk-container-id-2 div.sk-estimator {font-family: monospace;background-color: #f0f8ff;border: 1px dotted black;border-radius: 0.25em;box-sizing: border-box;margin-bottom: 0.5em;}#sk-container-id-2 div.sk-estimator:hover {background-color: #d4ebff;}#sk-container-id-2 div.sk-parallel-item::after {content: \"\";width: 100%;border-bottom: 1px solid gray;flex-grow: 1;}#sk-container-id-2 div.sk-label:hover label.sk-toggleable__label {background-color: #d4ebff;}#sk-container-id-2 div.sk-serial::before {content: \"\";position: absolute;border-left: 1px solid gray;box-sizing: border-box;top: 0;bottom: 0;left: 50%;z-index: 0;}#sk-container-id-2 div.sk-serial {display: flex;flex-direction: column;align-items: center;background-color: white;padding-right: 0.2em;padding-left: 0.2em;position: relative;}#sk-container-id-2 div.sk-item {position: relative;z-index: 1;}#sk-container-id-2 div.sk-parallel {display: flex;align-items: stretch;justify-content: center;background-color: white;position: relative;}#sk-container-id-2 div.sk-item::before, #sk-container-id-2 div.sk-parallel-item::before {content: \"\";position: absolute;border-left: 1px solid gray;box-sizing: border-box;top: 0;bottom: 0;left: 50%;z-index: -1;}#sk-container-id-2 div.sk-parallel-item {display: flex;flex-direction: column;z-index: 1;position: relative;background-color: white;}#sk-container-id-2 div.sk-parallel-item:first-child::after {align-self: flex-end;width: 50%;}#sk-container-id-2 div.sk-parallel-item:last-child::after {align-self: flex-start;width: 50%;}#sk-container-id-2 div.sk-parallel-item:only-child::after {width: 0;}#sk-container-id-2 div.sk-dashed-wrapped {border: 1px dashed gray;margin: 0 0.4em 0.5em 0.4em;box-sizing: border-box;padding-bottom: 0.4em;background-color: white;}#sk-container-id-2 div.sk-label label {font-family: monospace;font-weight: bold;display: inline-block;line-height: 1.2em;}#sk-container-id-2 div.sk-label-container {text-align: center;}#sk-container-id-2 div.sk-container {/* jupyter's `normalize.less` sets `[hidden] { display: none; }` but bootstrap.min.css set `[hidden] { display: none !important; }` so we also need the `!important` here to be able to override the default hidden behavior on the sphinx rendered scikit-learn.org. See: https://github.com/scikit-learn/scikit-learn/issues/21755 */display: inline-block !important;position: relative;}#sk-container-id-2 div.sk-text-repr-fallback {display: none;}</style><div id=\"sk-container-id-2\" class=\"sk-top-container\"><div class=\"sk-text-repr-fallback\"><pre>GridSearchCV(cv=KFold(n_splits=5, random_state=411, shuffle=True),\n",
       "             error_score=&#x27;raise&#x27;,\n",
       "             estimator=XGBRegressor(base_score=None, booster=None,\n",
       "                                    callbacks=None, colsample_bylevel=None,\n",
       "                                    colsample_bynode=None,\n",
       "                                    colsample_bytree=None, device=None,\n",
       "                                    early_stopping_rounds=None,\n",
       "                                    enable_categorical=False, eval_metric=None,\n",
       "                                    feature_types=None, gamma=None,\n",
       "                                    grow_policy=None, impo...\n",
       "                                    monotone_constraints=None,\n",
       "                                    multi_strategy=None, n_estimators=None,\n",
       "                                    n_jobs=None, num_parallel_tree=None,\n",
       "                                    random_state=None, ...),\n",
       "             n_jobs=-1,\n",
       "             param_grid={&#x27;colsample_bytree&#x27;: [0.7, 0.8, 1.0],\n",
       "                         &#x27;gamma&#x27;: [0, 0.1, 0.2],\n",
       "                         &#x27;learning_rate&#x27;: [0.01, 0.1, 0.2],\n",
       "                         &#x27;max_depth&#x27;: [3, 6, 10],\n",
       "                         &#x27;min_child_weight&#x27;: [1, 5, 10],\n",
       "                         &#x27;n_estimators&#x27;: [10, 50, 100, 200],\n",
       "                         &#x27;subsample&#x27;: [0.7, 0.8, 1.0]},\n",
       "             scoring=&#x27;neg_mean_squared_error&#x27;)</pre><b>In a Jupyter environment, please rerun this cell to show the HTML representation or trust the notebook. <br />On GitHub, the HTML representation is unable to render, please try loading this page with nbviewer.org.</b></div><div class=\"sk-container\" hidden><div class=\"sk-item sk-dashed-wrapped\"><div class=\"sk-label-container\"><div class=\"sk-label sk-toggleable\"><input class=\"sk-toggleable__control sk-hidden--visually\" id=\"sk-estimator-id-4\" type=\"checkbox\" ><label for=\"sk-estimator-id-4\" class=\"sk-toggleable__label sk-toggleable__label-arrow\">GridSearchCV</label><div class=\"sk-toggleable__content\"><pre>GridSearchCV(cv=KFold(n_splits=5, random_state=411, shuffle=True),\n",
       "             error_score=&#x27;raise&#x27;,\n",
       "             estimator=XGBRegressor(base_score=None, booster=None,\n",
       "                                    callbacks=None, colsample_bylevel=None,\n",
       "                                    colsample_bynode=None,\n",
       "                                    colsample_bytree=None, device=None,\n",
       "                                    early_stopping_rounds=None,\n",
       "                                    enable_categorical=False, eval_metric=None,\n",
       "                                    feature_types=None, gamma=None,\n",
       "                                    grow_policy=None, impo...\n",
       "                                    monotone_constraints=None,\n",
       "                                    multi_strategy=None, n_estimators=None,\n",
       "                                    n_jobs=None, num_parallel_tree=None,\n",
       "                                    random_state=None, ...),\n",
       "             n_jobs=-1,\n",
       "             param_grid={&#x27;colsample_bytree&#x27;: [0.7, 0.8, 1.0],\n",
       "                         &#x27;gamma&#x27;: [0, 0.1, 0.2],\n",
       "                         &#x27;learning_rate&#x27;: [0.01, 0.1, 0.2],\n",
       "                         &#x27;max_depth&#x27;: [3, 6, 10],\n",
       "                         &#x27;min_child_weight&#x27;: [1, 5, 10],\n",
       "                         &#x27;n_estimators&#x27;: [10, 50, 100, 200],\n",
       "                         &#x27;subsample&#x27;: [0.7, 0.8, 1.0]},\n",
       "             scoring=&#x27;neg_mean_squared_error&#x27;)</pre></div></div></div><div class=\"sk-parallel\"><div class=\"sk-parallel-item\"><div class=\"sk-item\"><div class=\"sk-label-container\"><div class=\"sk-label sk-toggleable\"><input class=\"sk-toggleable__control sk-hidden--visually\" id=\"sk-estimator-id-5\" type=\"checkbox\" ><label for=\"sk-estimator-id-5\" class=\"sk-toggleable__label sk-toggleable__label-arrow\">estimator: XGBRegressor</label><div class=\"sk-toggleable__content\"><pre>XGBRegressor(base_score=None, booster=None, callbacks=None,\n",
       "             colsample_bylevel=None, colsample_bynode=None,\n",
       "             colsample_bytree=None, device=None, early_stopping_rounds=None,\n",
       "             enable_categorical=False, eval_metric=None, feature_types=None,\n",
       "             gamma=None, grow_policy=None, importance_type=None,\n",
       "             interaction_constraints=None, learning_rate=None, max_bin=None,\n",
       "             max_cat_threshold=None, max_cat_to_onehot=None,\n",
       "             max_delta_step=None, max_depth=None, max_leaves=None,\n",
       "             min_child_weight=None, missing=nan, monotone_constraints=None,\n",
       "             multi_strategy=None, n_estimators=None, n_jobs=None,\n",
       "             num_parallel_tree=None, random_state=None, ...)</pre></div></div></div><div class=\"sk-serial\"><div class=\"sk-item\"><div class=\"sk-estimator sk-toggleable\"><input class=\"sk-toggleable__control sk-hidden--visually\" id=\"sk-estimator-id-6\" type=\"checkbox\" ><label for=\"sk-estimator-id-6\" class=\"sk-toggleable__label sk-toggleable__label-arrow\">XGBRegressor</label><div class=\"sk-toggleable__content\"><pre>XGBRegressor(base_score=None, booster=None, callbacks=None,\n",
       "             colsample_bylevel=None, colsample_bynode=None,\n",
       "             colsample_bytree=None, device=None, early_stopping_rounds=None,\n",
       "             enable_categorical=False, eval_metric=None, feature_types=None,\n",
       "             gamma=None, grow_policy=None, importance_type=None,\n",
       "             interaction_constraints=None, learning_rate=None, max_bin=None,\n",
       "             max_cat_threshold=None, max_cat_to_onehot=None,\n",
       "             max_delta_step=None, max_depth=None, max_leaves=None,\n",
       "             min_child_weight=None, missing=nan, monotone_constraints=None,\n",
       "             multi_strategy=None, n_estimators=None, n_jobs=None,\n",
       "             num_parallel_tree=None, random_state=None, ...)</pre></div></div></div></div></div></div></div></div></div></div>"
      ],
      "text/plain": [
       "GridSearchCV(cv=KFold(n_splits=5, random_state=411, shuffle=True),\n",
       "             error_score='raise',\n",
       "             estimator=XGBRegressor(base_score=None, booster=None,\n",
       "                                    callbacks=None, colsample_bylevel=None,\n",
       "                                    colsample_bynode=None,\n",
       "                                    colsample_bytree=None, device=None,\n",
       "                                    early_stopping_rounds=None,\n",
       "                                    enable_categorical=False, eval_metric=None,\n",
       "                                    feature_types=None, gamma=None,\n",
       "                                    grow_policy=None, impo...\n",
       "                                    monotone_constraints=None,\n",
       "                                    multi_strategy=None, n_estimators=None,\n",
       "                                    n_jobs=None, num_parallel_tree=None,\n",
       "                                    random_state=None, ...),\n",
       "             n_jobs=-1,\n",
       "             param_grid={'colsample_bytree': [0.7, 0.8, 1.0],\n",
       "                         'gamma': [0, 0.1, 0.2],\n",
       "                         'learning_rate': [0.01, 0.1, 0.2],\n",
       "                         'max_depth': [3, 6, 10],\n",
       "                         'min_child_weight': [1, 5, 10],\n",
       "                         'n_estimators': [10, 50, 100, 200],\n",
       "                         'subsample': [0.7, 0.8, 1.0]},\n",
       "             scoring='neg_mean_squared_error')"
      ]
     },
     "execution_count": 58,
     "metadata": {},
     "output_type": "execute_result"
    }
   ],
   "source": [
    "grid_search = GridSearchCV(xgb_model, param_grid, scoring='neg_mean_squared_error', cv=kfold, n_jobs=-1, error_score='raise')\n",
    "grid_search.fit(X_train, y_train)"
   ]
  },
  {
   "cell_type": "markdown",
   "id": "d312ad1c",
   "metadata": {},
   "source": [
    "**Avaliando as métricas do melhor modelo**"
   ]
  },
  {
   "cell_type": "code",
   "execution_count": 59,
   "id": "2d345abb",
   "metadata": {},
   "outputs": [],
   "source": [
    "best_model_xgb = grid_search.best_estimator_\n",
    "y_pred = best_model_xgb.predict(X_test)\n",
    "\n",
    "rmse = np.sqrt(mean_squared_error(y_test, y_pred))\n",
    "mae = mean_absolute_error(y_test, y_pred)\n",
    "r2 = r2_score(y_test, y_pred)\n",
    "\n",
    "metrics_xgb = {\n",
    "    'RMSE': rmse,\n",
    "    'MAE': mae,\n",
    "    'R2': r2\n",
    "}"
   ]
  },
  {
   "cell_type": "code",
   "execution_count": 60,
   "id": "5b1e4a72",
   "metadata": {},
   "outputs": [],
   "source": [
    "predictions = pd.DataFrame({'Valores verdadeiros': y_test, 'Predições': y_pred})\n",
    "\n",
    "X_all = ABT.drop(columns=['price',\"id\",\"nome\",\"host_id\",\"host_name\",\"bairro\",\"ultima_review\"])\n",
    "y_all = ABT['price']\n",
    "final_model_xgb = best_model_xgb.fit(X_all, y_all)"
   ]
  },
  {
   "cell_type": "code",
   "execution_count": 61,
   "id": "c950161e",
   "metadata": {},
   "outputs": [
    {
     "data": {
      "text/html": [
       "<div>\n",
       "<style scoped>\n",
       "    .dataframe tbody tr th:only-of-type {\n",
       "        vertical-align: middle;\n",
       "    }\n",
       "\n",
       "    .dataframe tbody tr th {\n",
       "        vertical-align: top;\n",
       "    }\n",
       "\n",
       "    .dataframe thead th {\n",
       "        text-align: right;\n",
       "    }\n",
       "</style>\n",
       "<table border=\"1\" class=\"dataframe\">\n",
       "  <thead>\n",
       "    <tr style=\"text-align: right;\">\n",
       "      <th></th>\n",
       "      <th>Valores verdadeiros</th>\n",
       "      <th>Predições</th>\n",
       "    </tr>\n",
       "  </thead>\n",
       "  <tbody>\n",
       "    <tr>\n",
       "      <th>25992</th>\n",
       "      <td>55</td>\n",
       "      <td>75.156975</td>\n",
       "    </tr>\n",
       "    <tr>\n",
       "      <th>25232</th>\n",
       "      <td>350</td>\n",
       "      <td>201.617630</td>\n",
       "    </tr>\n",
       "    <tr>\n",
       "      <th>10283</th>\n",
       "      <td>60</td>\n",
       "      <td>110.899254</td>\n",
       "    </tr>\n",
       "    <tr>\n",
       "      <th>2762</th>\n",
       "      <td>159</td>\n",
       "      <td>251.832504</td>\n",
       "    </tr>\n",
       "    <tr>\n",
       "      <th>35722</th>\n",
       "      <td>180</td>\n",
       "      <td>165.286438</td>\n",
       "    </tr>\n",
       "    <tr>\n",
       "      <th>...</th>\n",
       "      <td>...</td>\n",
       "      <td>...</td>\n",
       "    </tr>\n",
       "    <tr>\n",
       "      <th>12999</th>\n",
       "      <td>80</td>\n",
       "      <td>80.082619</td>\n",
       "    </tr>\n",
       "    <tr>\n",
       "      <th>41296</th>\n",
       "      <td>145</td>\n",
       "      <td>252.090805</td>\n",
       "    </tr>\n",
       "    <tr>\n",
       "      <th>25355</th>\n",
       "      <td>160</td>\n",
       "      <td>121.107056</td>\n",
       "    </tr>\n",
       "    <tr>\n",
       "      <th>43007</th>\n",
       "      <td>52</td>\n",
       "      <td>77.941383</td>\n",
       "    </tr>\n",
       "    <tr>\n",
       "      <th>40846</th>\n",
       "      <td>120</td>\n",
       "      <td>194.222580</td>\n",
       "    </tr>\n",
       "  </tbody>\n",
       "</table>\n",
       "<p>12218 rows × 2 columns</p>\n",
       "</div>"
      ],
      "text/plain": [
       "       Valores verdadeiros   Predições\n",
       "25992                   55   75.156975\n",
       "25232                  350  201.617630\n",
       "10283                   60  110.899254\n",
       "2762                   159  251.832504\n",
       "35722                  180  165.286438\n",
       "...                    ...         ...\n",
       "12999                   80   80.082619\n",
       "41296                  145  252.090805\n",
       "25355                  160  121.107056\n",
       "43007                   52   77.941383\n",
       "40846                  120  194.222580\n",
       "\n",
       "[12218 rows x 2 columns]"
      ]
     },
     "execution_count": 61,
     "metadata": {},
     "output_type": "execute_result"
    }
   ],
   "source": [
    "predictions"
   ]
  },
  {
   "cell_type": "markdown",
   "id": "81542dbc",
   "metadata": {},
   "source": [
    "**Avaliando as métricas de cada modelo**"
   ]
  },
  {
   "cell_type": "code",
   "execution_count": 62,
   "id": "4c65dec0",
   "metadata": {},
   "outputs": [
    {
     "name": "stdout",
     "output_type": "stream",
     "text": [
      "Métricas do modelo Random Forest: {'RMSE': 219.8232916409083, 'MAE': 65.16793030911377, 'R2': 0.17494493496288888}\n",
      "Métricas do modelo XGBoost: {'RMSE': 220.61500398321317, 'MAE': 65.99117065541462, 'R2': 0.16899122039278602}\n"
     ]
    }
   ],
   "source": [
    "print(f'Métricas do modelo Random Forest: {metrics_rf}')\n",
    "print(f'Métricas do modelo XGBoost: {metrics_xgb}')"
   ]
  },
  {
   "cell_type": "markdown",
   "id": "43f422b1",
   "metadata": {},
   "source": [
    "**Como o modelo Random Forest apresentou métricas levemente superiores ao XGBoost, ele deve ser utilizado como o modelo preditor de preços, e também, como é um modelo que utiliza do bagging como princípio para seus cálculos é um modelo com menor custo computacional.**"
   ]
  },
  {
   "cell_type": "markdown",
   "id": "c805ff49",
   "metadata": {},
   "source": [
    "Supondo um apartamento com as seguintes características:\n",
    "\n",
    "{'id': 2595,\n",
    "\n",
    " 'nome': 'Skylit Midtown Castle',\n",
    " \n",
    " 'host_id': 2845,\n",
    " \n",
    " 'host_name': 'Jennifer',\n",
    " \n",
    " 'bairro_group': 'Manhattan',\n",
    " \n",
    " 'bairro': 'Midtown',\n",
    " \n",
    " 'latitude': 40.75362,\n",
    "\n",
    " 'longitude': -73.98377,\n",
    " \n",
    " 'room_type': 'Entire home/apt',\n",
    " \n",
    " 'minimo_noites': 1,\n",
    " \n",
    " 'numero_de_reviews': 45,\n",
    " \n",
    " 'ultima_review': '2019-05-21',\n",
    " \n",
    " 'reviews_por_mes': 0.38,\n",
    " \n",
    " 'calculado_host_listings_count': 2,\n",
    " \n",
    " 'disponibilidade_365': 355}\n",
    " \n",
    "**Qual seria a sua sugestão de preço?**"
   ]
  },
  {
   "cell_type": "code",
   "execution_count": 63,
   "id": "34912945",
   "metadata": {},
   "outputs": [],
   "source": [
    "novo_apartamento = {'id': 2595,\n",
    "    'nome': 'Skylit Midtown Castle',\n",
    "    'host_id': 2845,\n",
    "    'host_name': 'Jennifer',\n",
    "    'bairro_group': 'Manhattan',\n",
    "    'bairro': 'Midtown',\n",
    "    'latitude': 40.75362,\n",
    "    'longitude': -73.98377,\n",
    "    'room_type': 'Entire home/apt',\n",
    "    'minimo_noites': 1,\n",
    "    'numero_de_reviews': 45,\n",
    "    'ultima_review': '2019-05-21',\n",
    "    'reviews_por_mes': 0.38,\n",
    "    'calculado_host_listings_count': 2,\n",
    "    'disponibilidade_365': 355\n",
    "}\n",
    "\n",
    "novo_apartamento['bairro_group'] = {'Bronx': 1, 'Brooklyn': 2, 'Manhattan': 3, 'Queens': 4, 'Staten Island': 5}[novo_apartamento['bairro_group']]\n",
    "novo_apartamento['room_type'] = {'Entire home/apt': 1, 'Private room': 2, 'Shared room': 3}[novo_apartamento['room_type']]"
   ]
  },
  {
   "cell_type": "code",
   "execution_count": 64,
   "id": "77e94e8e",
   "metadata": {},
   "outputs": [],
   "source": [
    "novo_ap_df = pd.DataFrame([novo_apartamento], columns=X_all.columns)"
   ]
  },
  {
   "cell_type": "code",
   "execution_count": 65,
   "id": "1e5ece5a",
   "metadata": {},
   "outputs": [
    {
     "name": "stdout",
     "output_type": "stream",
     "text": [
      "O preço sugerido para esse apartamento é de: 344.58\n"
     ]
    }
   ],
   "source": [
    "preco_sugerido = final_model_rf.predict(novo_ap_df)\n",
    "print(f'O preço sugerido para esse apartamento é de: {preco_sugerido[0]:.2f}')"
   ]
  }
 ],
 "metadata": {
  "kernelspec": {
   "display_name": "Python 3 (ipykernel)",
   "language": "python",
   "name": "python3"
  },
  "language_info": {
   "codemirror_mode": {
    "name": "ipython",
    "version": 3
   },
   "file_extension": ".py",
   "mimetype": "text/x-python",
   "name": "python",
   "nbconvert_exporter": "python",
   "pygments_lexer": "ipython3",
   "version": "3.11.5"
  }
 },
 "nbformat": 4,
 "nbformat_minor": 5
}
